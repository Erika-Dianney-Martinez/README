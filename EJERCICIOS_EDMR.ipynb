{
  "nbformat": 4,
  "nbformat_minor": 0,
  "metadata": {
    "colab": {
      "provenance": [],
      "authorship_tag": "ABX9TyN4E1EBMuFMTieMW+cm+4Kz",
      "include_colab_link": true
    },
    "kernelspec": {
      "name": "python3",
      "display_name": "Python 3"
    },
    "language_info": {
      "name": "python"
    }
  },
  "cells": [
    {
      "cell_type": "markdown",
      "metadata": {
        "id": "view-in-github",
        "colab_type": "text"
      },
      "source": [
        "<a href=\"https://colab.research.google.com/github/Erika-Dianney-Martinez/README/blob/main/EJERCICIOS_EDMR.ipynb\" target=\"_parent\"><img src=\"https://colab.research.google.com/assets/colab-badge.svg\" alt=\"Open In Colab\"/></a>"
      ]
    },
    {
      "cell_type": "markdown",
      "source": [
        "### Ejercicios:\n",
        "1.- Documenta tu colab.\n",
        "\n",
        "2.- Calcula la ley de las siguientes variables aleatorias:\n",
        "\n",
        "1.          - La diferencia de las caras sea mayor que $1$.\n",
        "\n",
        "    - La suma de las caras sea par.\n",
        "\n",
        "3.- Verifica, en cada caso, que $$\\sum_{k\\in R_{X}}\\mathbb{P}(X=x)=1.$$\n",
        "\n",
        "4.- Sube tu notebook a tu GitHub.\n"
      ],
      "metadata": {
        "id": "ZQm4GmrlXBw8"
      }
    },
    {
      "cell_type": "markdown",
      "source": [
        "***SOLUCION:***\n",
        "Vamos a definir $T$ como la variable aleatorio que saca la diferencia entre las caras de los dados.\n",
        "\n",
        "$$T:\\Omega \\to R_{T}=\\{-5, -4, -3, -2, -1, 0, 1, 2, 3, 4, 5 \\}$$\n",
        "\n",
        "Veamos a $T$ como eventos. Sea $T_{n}$ el evento la diferencia de las caras es $n$.\n",
        "\n"
      ],
      "metadata": {
        "id": "1h86bpPxfWN5"
      }
    },
    {
      "cell_type": "code",
      "source": [
        "from itertools import product\n",
        "from fractions import Fraction"
      ],
      "metadata": {
        "id": "Iu_AFMlk2J17"
      },
      "execution_count": 2,
      "outputs": []
    },
    {
      "cell_type": "code",
      "source": [
        "def P(A, Omega):\n",
        "  P = Fraction(len(A), len(Omega) )\n",
        "  return P"
      ],
      "metadata": {
        "id": "gTkkSYd82NgY"
      },
      "execution_count": 3,
      "outputs": []
    },
    {
      "cell_type": "markdown",
      "source": [
        "$$T_{n}=\\{(i,j)\\in \\Omega : i-j =n \\mid n>1\\}$$"
      ],
      "metadata": {
        "id": "6Fk1XeHM2TzL"
      }
    },
    {
      "cell_type": "markdown",
      "source": [
        "Definimos el siguiente diccionario:"
      ],
      "metadata": {
        "id": "CtmKIwwW395D"
      }
    },
    {
      "cell_type": "code",
      "source": [
        "L = [i for i in range(1,7)]\n",
        "\n",
        "Omega = set(product(L, repeat =2 ))\n",
        "Omega"
      ],
      "metadata": {
        "colab": {
          "base_uri": "https://localhost:8080/"
        },
        "id": "CXrwbX8F4AuI",
        "outputId": "ce742788-fd0a-4b41-ca01-1a783b26f99d"
      },
      "execution_count": 4,
      "outputs": [
        {
          "output_type": "execute_result",
          "data": {
            "text/plain": [
              "{(1, 1),\n",
              " (1, 2),\n",
              " (1, 3),\n",
              " (1, 4),\n",
              " (1, 5),\n",
              " (1, 6),\n",
              " (2, 1),\n",
              " (2, 2),\n",
              " (2, 3),\n",
              " (2, 4),\n",
              " (2, 5),\n",
              " (2, 6),\n",
              " (3, 1),\n",
              " (3, 2),\n",
              " (3, 3),\n",
              " (3, 4),\n",
              " (3, 5),\n",
              " (3, 6),\n",
              " (4, 1),\n",
              " (4, 2),\n",
              " (4, 3),\n",
              " (4, 4),\n",
              " (4, 5),\n",
              " (4, 6),\n",
              " (5, 1),\n",
              " (5, 2),\n",
              " (5, 3),\n",
              " (5, 4),\n",
              " (5, 5),\n",
              " (5, 6),\n",
              " (6, 1),\n",
              " (6, 2),\n",
              " (6, 3),\n",
              " (6, 4),\n",
              " (6, 5),\n",
              " (6, 6)}"
            ]
          },
          "metadata": {},
          "execution_count": 4
        }
      ]
    },
    {
      "cell_type": "markdown",
      "source": [
        "Ahora queremos las diferencias:"
      ],
      "metadata": {
        "id": "ou4bc63-42Ro"
      }
    },
    {
      "cell_type": "code",
      "source": [
        "T = {(i,j): i-j for i,j in Omega}\n",
        "\n",
        "T"
      ],
      "metadata": {
        "colab": {
          "base_uri": "https://localhost:8080/"
        },
        "id": "IhunfDhO4-R8",
        "outputId": "439c849b-cefa-482d-ea15-c6494111f576"
      },
      "execution_count": 5,
      "outputs": [
        {
          "output_type": "execute_result",
          "data": {
            "text/plain": [
              "{(3, 4): -1,\n",
              " (4, 3): 1,\n",
              " (3, 1): 2,\n",
              " (5, 4): 1,\n",
              " (4, 6): -2,\n",
              " (5, 1): 4,\n",
              " (2, 2): 0,\n",
              " (1, 6): -5,\n",
              " (2, 5): -3,\n",
              " (1, 3): -2,\n",
              " (6, 2): 4,\n",
              " (6, 5): 1,\n",
              " (4, 2): 2,\n",
              " (4, 5): -1,\n",
              " (3, 3): 0,\n",
              " (5, 6): -1,\n",
              " (3, 6): -3,\n",
              " (5, 3): 2,\n",
              " (2, 4): -2,\n",
              " (1, 2): -1,\n",
              " (2, 1): 1,\n",
              " (1, 5): -4,\n",
              " (6, 1): 5,\n",
              " (6, 4): 2,\n",
              " (3, 2): 1,\n",
              " (4, 1): 3,\n",
              " (3, 5): -2,\n",
              " (5, 2): 3,\n",
              " (4, 4): 0,\n",
              " (5, 5): 0,\n",
              " (1, 1): 0,\n",
              " (1, 4): -3,\n",
              " (2, 3): -1,\n",
              " (2, 6): -4,\n",
              " (6, 6): 0,\n",
              " (6, 3): 3}"
            ]
          },
          "metadata": {},
          "execution_count": 5
        }
      ]
    },
    {
      "cell_type": "markdown",
      "source": [
        "Lo queremos mas ordenado, por lo tanto cargamos los diccionarios:"
      ],
      "metadata": {
        "id": "KwXxFvTX5MFu"
      }
    },
    {
      "cell_type": "code",
      "source": [
        "from collections import defaultdict\n",
        "\n",
        "dT = defaultdict(set)\n",
        "dT"
      ],
      "metadata": {
        "colab": {
          "base_uri": "https://localhost:8080/"
        },
        "id": "MvuURcRa5Qnb",
        "outputId": "2224112d-6a3d-4a53-c002-a64e01b2731d"
      },
      "execution_count": 6,
      "outputs": [
        {
          "output_type": "execute_result",
          "data": {
            "text/plain": [
              "defaultdict(set, {})"
            ]
          },
          "metadata": {},
          "execution_count": 6
        }
      ]
    },
    {
      "cell_type": "markdown",
      "source": [
        "Ahora llenamos nuestro diccionario:"
      ],
      "metadata": {
        "id": "Zwwmey3c6pfK"
      }
    },
    {
      "cell_type": "code",
      "source": [
        "for l, v in T.items():\n",
        "  dT[v].add(l)"
      ],
      "metadata": {
        "id": "Bb--kISe6v_Q"
      },
      "execution_count": 7,
      "outputs": []
    },
    {
      "cell_type": "markdown",
      "source": [
        "Imprimimos el nuevo diccionario mas organizado"
      ],
      "metadata": {
        "id": "Nrp_fUAN7MCJ"
      }
    },
    {
      "cell_type": "code",
      "source": [
        "dT"
      ],
      "metadata": {
        "colab": {
          "base_uri": "https://localhost:8080/"
        },
        "id": "tSen2nGe7LqQ",
        "outputId": "98390c7e-85bd-4a56-bb17-4282e51f37eb"
      },
      "execution_count": 8,
      "outputs": [
        {
          "output_type": "execute_result",
          "data": {
            "text/plain": [
              "defaultdict(set,\n",
              "            {-1: {(1, 2), (2, 3), (3, 4), (4, 5), (5, 6)},\n",
              "             1: {(2, 1), (3, 2), (4, 3), (5, 4), (6, 5)},\n",
              "             2: {(3, 1), (4, 2), (5, 3), (6, 4)},\n",
              "             -2: {(1, 3), (2, 4), (3, 5), (4, 6)},\n",
              "             4: {(5, 1), (6, 2)},\n",
              "             0: {(1, 1), (2, 2), (3, 3), (4, 4), (5, 5), (6, 6)},\n",
              "             -5: {(1, 6)},\n",
              "             -3: {(1, 4), (2, 5), (3, 6)},\n",
              "             -4: {(1, 5), (2, 6)},\n",
              "             5: {(6, 1)},\n",
              "             3: {(4, 1), (5, 2), (6, 3)}})"
            ]
          },
          "metadata": {},
          "execution_count": 8
        }
      ]
    },
    {
      "cell_type": "markdown",
      "source": [
        "Organizamos en un nuevo diccionario"
      ],
      "metadata": {
        "id": "mCIwKOCf7e6P"
      }
    },
    {
      "cell_type": "code",
      "source": [
        "leyT = {k : P(A,Omega) for k , A in dT.items() }\n",
        "leyT"
      ],
      "metadata": {
        "colab": {
          "base_uri": "https://localhost:8080/"
        },
        "id": "ygQEXPt47jvH",
        "outputId": "56b40954-28c3-4757-e50f-af628d95591c"
      },
      "execution_count": 9,
      "outputs": [
        {
          "output_type": "execute_result",
          "data": {
            "text/plain": [
              "{-1: Fraction(5, 36),\n",
              " 1: Fraction(5, 36),\n",
              " 2: Fraction(1, 9),\n",
              " -2: Fraction(1, 9),\n",
              " 4: Fraction(1, 18),\n",
              " 0: Fraction(1, 6),\n",
              " -5: Fraction(1, 36),\n",
              " -3: Fraction(1, 12),\n",
              " -4: Fraction(1, 18),\n",
              " 5: Fraction(1, 36),\n",
              " 3: Fraction(1, 12)}"
            ]
          },
          "metadata": {},
          "execution_count": 9
        }
      ]
    },
    {
      "cell_type": "markdown",
      "source": [
        "Ahora agregamos un tranformador para poder observar los elementos que son de nuestro interes."
      ],
      "metadata": {
        "id": "oMrFTOqr9CK-"
      }
    },
    {
      "cell_type": "code",
      "source": [
        "import pandas as pd"
      ],
      "metadata": {
        "id": "GoRk6e1g9Hpi"
      },
      "execution_count": 10,
      "outputs": []
    },
    {
      "cell_type": "code",
      "source": [
        "leyT = pd.Series(leyT)\n",
        "r= [o for o in range(2,6)]\n",
        "leyT [r]"
      ],
      "metadata": {
        "colab": {
          "base_uri": "https://localhost:8080/"
        },
        "id": "0n-oUeis9K5s",
        "outputId": "a714daca-5759-4085-9e67-d4ce3840ca08"
      },
      "execution_count": 11,
      "outputs": [
        {
          "output_type": "execute_result",
          "data": {
            "text/plain": [
              "2     1/9\n",
              "3    1/12\n",
              "4    1/18\n",
              "5    1/36\n",
              "dtype: object"
            ]
          },
          "metadata": {},
          "execution_count": 11
        }
      ]
    },
    {
      "cell_type": "markdown",
      "source": [
        "En este punto vamos a comprobar que $$\\sum_{k\\in R_{X}}\\mathbb{P}(X=x)=1.$$ \\\\\n"
      ],
      "metadata": {
        "id": "OCZfYH54ShJt"
      }
    },
    {
      "cell_type": "code",
      "source": [
        "leyT.sum()"
      ],
      "metadata": {
        "colab": {
          "base_uri": "https://localhost:8080/"
        },
        "id": "YsxxHBaKTlsK",
        "outputId": "129732c5-14b3-4720-bf03-a7319bef4dba"
      },
      "execution_count": 12,
      "outputs": [
        {
          "output_type": "execute_result",
          "data": {
            "text/plain": [
              "Fraction(1, 1)"
            ]
          },
          "metadata": {},
          "execution_count": 12
        }
      ]
    },
    {
      "cell_type": "markdown",
      "source": [
        "### Ejercicio 2:\n",
        "\n",
        "La suma de las caras sea par."
      ],
      "metadata": {
        "id": "APgi7ve7asPv"
      }
    },
    {
      "cell_type": "markdown",
      "source": [
        "***SOLUCION:***\n",
        "\n",
        "Vamos a definir $W$ como la variable aleatorio que suma las caras de los dados.\n",
        "\n",
        "$$W:\\Omega \\to R_{W}=\\{2,4,6,8,10,12\\}$$\n",
        "\n",
        "Veamos a $W$ como eventos. Sea $W_{n}$ el evento la suma de las caras es $n$."
      ],
      "metadata": {
        "id": "B8HuY4ffa9eQ"
      }
    },
    {
      "cell_type": "markdown",
      "source": [
        "Generaremos unicamente los casos donde las caras de los dados sumen un par, podemos usar modulo 2 para quedarnos solo con los pares"
      ],
      "metadata": {
        "id": "b2gf43TkdJve"
      }
    },
    {
      "cell_type": "code",
      "source": [
        "Omega2 = {(i,j) for i in range(1,7) for j in range(1,7) if (i+j)%2 == 0 }\n",
        "Omega2"
      ],
      "metadata": {
        "colab": {
          "base_uri": "https://localhost:8080/"
        },
        "id": "W_HVZZF8a_lv",
        "outputId": "e4278591-70c4-445f-a9dc-e57be6f48984"
      },
      "execution_count": 1,
      "outputs": [
        {
          "output_type": "execute_result",
          "data": {
            "text/plain": [
              "{(1, 1),\n",
              " (1, 3),\n",
              " (1, 5),\n",
              " (2, 2),\n",
              " (2, 4),\n",
              " (2, 6),\n",
              " (3, 1),\n",
              " (3, 3),\n",
              " (3, 5),\n",
              " (4, 2),\n",
              " (4, 4),\n",
              " (4, 6),\n",
              " (5, 1),\n",
              " (5, 3),\n",
              " (5, 5),\n",
              " (6, 2),\n",
              " (6, 4),\n",
              " (6, 6)}"
            ]
          },
          "metadata": {},
          "execution_count": 1
        }
      ]
    },
    {
      "cell_type": "markdown",
      "source": [
        "Ahora queremos la suma de las caras:"
      ],
      "metadata": {
        "id": "eTps1xVjb0Tg"
      }
    },
    {
      "cell_type": "code",
      "source": [
        "W= {(i,j): i+j for i,j in Omega2}\n",
        "W"
      ],
      "metadata": {
        "colab": {
          "base_uri": "https://localhost:8080/"
        },
        "id": "MOgdLEgmcKiy",
        "outputId": "3dde252b-4759-49c9-ed14-1a8520612cff"
      },
      "execution_count": 16,
      "outputs": [
        {
          "output_type": "execute_result",
          "data": {
            "text/plain": [
              "{(4, 4): 8,\n",
              " (2, 4): 6,\n",
              " (5, 5): 10,\n",
              " (6, 2): 8,\n",
              " (1, 5): 6,\n",
              " (3, 1): 4,\n",
              " (1, 1): 2,\n",
              " (4, 6): 10,\n",
              " (6, 6): 12,\n",
              " (5, 1): 6,\n",
              " (4, 2): 6,\n",
              " (6, 4): 10,\n",
              " (3, 3): 6,\n",
              " (2, 6): 8,\n",
              " (2, 2): 4,\n",
              " (5, 3): 8,\n",
              " (1, 3): 4,\n",
              " (3, 5): 8}"
            ]
          },
          "metadata": {},
          "execution_count": 16
        }
      ]
    },
    {
      "cell_type": "markdown",
      "source": [
        "Lo queremos mas ordenado, por lo tanto cargamos los diccionarios:"
      ],
      "metadata": {
        "id": "b_tSa80IdojR"
      }
    },
    {
      "cell_type": "code",
      "source": [
        "from collections import defaultdict\n",
        "\n",
        "dW = defaultdict(set)\n",
        "dW\n",
        ""
      ],
      "metadata": {
        "colab": {
          "base_uri": "https://localhost:8080/"
        },
        "id": "vkE5tt07dp7x",
        "outputId": "f7e44db2-c063-41ea-8686-57b508d507d5"
      },
      "execution_count": 17,
      "outputs": [
        {
          "output_type": "execute_result",
          "data": {
            "text/plain": [
              "defaultdict(set, {})"
            ]
          },
          "metadata": {},
          "execution_count": 17
        }
      ]
    },
    {
      "cell_type": "markdown",
      "source": [
        "Ahora llenamos nuestro diccionario:"
      ],
      "metadata": {
        "id": "mtgemyBJd_m_"
      }
    },
    {
      "cell_type": "code",
      "source": [
        "for z, b in W.items():\n",
        "  dW[b].add(z)"
      ],
      "metadata": {
        "id": "o5rD5Fa9eCFT"
      },
      "execution_count": 18,
      "outputs": []
    },
    {
      "cell_type": "markdown",
      "source": [
        "Imprimimos el nuevo diccionario mas organizado"
      ],
      "metadata": {
        "id": "kBy_7PIYerXz"
      }
    },
    {
      "cell_type": "code",
      "source": [
        "dW"
      ],
      "metadata": {
        "colab": {
          "base_uri": "https://localhost:8080/"
        },
        "id": "YWH0SvcEesU6",
        "outputId": "d18c96c7-5c17-4b5e-aa16-0a3293893f8c"
      },
      "execution_count": 19,
      "outputs": [
        {
          "output_type": "execute_result",
          "data": {
            "text/plain": [
              "defaultdict(set,\n",
              "            {8: {(2, 6), (3, 5), (4, 4), (5, 3), (6, 2)},\n",
              "             6: {(1, 5), (2, 4), (3, 3), (4, 2), (5, 1)},\n",
              "             10: {(4, 6), (5, 5), (6, 4)},\n",
              "             4: {(1, 3), (2, 2), (3, 1)},\n",
              "             2: {(1, 1)},\n",
              "             12: {(6, 6)}})"
            ]
          },
          "metadata": {},
          "execution_count": 19
        }
      ]
    },
    {
      "cell_type": "markdown",
      "source": [
        "Organizamos en un nuevo diccionario"
      ],
      "metadata": {
        "id": "eGe06iBoe7ud"
      }
    },
    {
      "cell_type": "code",
      "source": [
        "leyW = {k : P(A,Omega2) for k , A in dW.items() }\n",
        "leyW\n",
        ""
      ],
      "metadata": {
        "colab": {
          "base_uri": "https://localhost:8080/"
        },
        "id": "UH8t4xW2fSz9",
        "outputId": "3df9962a-601d-4d56-e48e-0e436d821323"
      },
      "execution_count": 20,
      "outputs": [
        {
          "output_type": "execute_result",
          "data": {
            "text/plain": [
              "{8: Fraction(5, 18),\n",
              " 6: Fraction(5, 18),\n",
              " 10: Fraction(1, 6),\n",
              " 4: Fraction(1, 6),\n",
              " 2: Fraction(1, 18),\n",
              " 12: Fraction(1, 18)}"
            ]
          },
          "metadata": {},
          "execution_count": 20
        }
      ]
    },
    {
      "cell_type": "markdown",
      "source": [
        "Ahora agregamos un tranformador para poder observar los elementos que son de nuestro interes."
      ],
      "metadata": {
        "id": "oyb-SMUTfijo"
      }
    },
    {
      "cell_type": "code",
      "source": [
        "import pandas as pd"
      ],
      "metadata": {
        "id": "Y3k0qxGSfjCu"
      },
      "execution_count": 21,
      "outputs": []
    },
    {
      "cell_type": "code",
      "source": [
        "leyW = pd.Series(leyW)\n",
        "leyW = leyW.sort_index()\n",
        "leyW"
      ],
      "metadata": {
        "colab": {
          "base_uri": "https://localhost:8080/"
        },
        "id": "2nUA-x7Nfoqe",
        "outputId": "e2776eb7-150d-4ee9-c02d-f45d2436c467"
      },
      "execution_count": 22,
      "outputs": [
        {
          "output_type": "execute_result",
          "data": {
            "text/plain": [
              "2     1/18\n",
              "4      1/6\n",
              "6     5/18\n",
              "8     5/18\n",
              "10     1/6\n",
              "12    1/18\n",
              "dtype: object"
            ]
          },
          "metadata": {},
          "execution_count": 22
        }
      ]
    },
    {
      "cell_type": "markdown",
      "source": [
        "En este punto vamos a comprobar que $$\\sum_{k\\in R_{X}}\\mathbb{P}(X=x)=1.$$ \\\\\n"
      ],
      "metadata": {
        "id": "J9v4t5ZegACr"
      }
    },
    {
      "cell_type": "code",
      "source": [
        "leyW.sum()"
      ],
      "metadata": {
        "colab": {
          "base_uri": "https://localhost:8080/"
        },
        "id": "_-9wzVpkgFM-",
        "outputId": "3055048a-ec84-40fb-ae6a-aff5f515c71c"
      },
      "execution_count": 23,
      "outputs": [
        {
          "output_type": "execute_result",
          "data": {
            "text/plain": [
              "Fraction(1, 1)"
            ]
          },
          "metadata": {},
          "execution_count": 23
        }
      ]
    }
  ]
}