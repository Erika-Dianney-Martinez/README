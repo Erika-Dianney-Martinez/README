{
  "nbformat": 4,
  "nbformat_minor": 0,
  "metadata": {
    "colab": {
      "provenance": [],
      "include_colab_link": true
    },
    "kernelspec": {
      "name": "python3",
      "display_name": "Python 3"
    },
    "language_info": {
      "name": "python"
    }
  },
  "cells": [
    {
      "cell_type": "markdown",
      "metadata": {
        "id": "view-in-github",
        "colab_type": "text"
      },
      "source": [
        "<a href=\"https://colab.research.google.com/github/Erika-Dianney-Martinez/README/blob/main/Estad%C3%ADstica_inferencial.ipynb\" target=\"_parent\"><img src=\"https://colab.research.google.com/assets/colab-badge.svg\" alt=\"Open In Colab\"/></a>"
      ]
    },
    {
      "cell_type": "markdown",
      "source": [
        "## 1. Investiga sobre el método de momentos y da dos ejemplos\n",
        "\n",
        "Este método consiste fundamentalmente en proponer como estimadores de los momentos poblacionales respecto al origen, a los correspondientes momentos muestrales.\n",
        "\n",
        "si $X$ en una variable aleatoria, se define el k-ésimo momento poblacional como:\n",
        "\n",
        "$$μ_{k}^{'} = E[X^k] = \\begin{cases} ∫_{∞}^{∞}x^k f(x)dx &\\quad \\text{si } x \\text{ es contínua}\\\\\n",
        "\\sum_{∀} x_i^k p(x_i) &\\quad \\text{si } x \\text{ es discreta}\n",
        " \\end{cases}$$\n",
        "\n",
        "donde $f(x)$ es la función de densidad de probabilidad de la variable aleatoria $X$, si $X$ es continúa, ó $P(x)$ es la distribución de probabilidad de $X$, si $X$ es discreta.\n",
        "\n",
        "Mientras que si se tiene una muestra aleatoria simple, de tamaño n, el k-ésimo momento muestral se define como:\n",
        "$$m'_k = \\frac{1}{n} \\sum_{i=1}^{n}x_{i}^{k}$$\n",
        "\n",
        "El método de los momentos consiste en igualar los momentos poblacionales con los correspondientes momentos muestrales, planteando tantas ecuaciones como parámetros desconocidos se tengan, resolviendo luego el sistema de ecuaciones para los parámentros desconocidos. Finalmente, se proponen como estimadores de los parámetros a aquellos que son soluciones del sistema de ecuaciones.\n",
        "\n",
        "Si $t$ es el número de parámetros desconocidos el sistema de ecuaciones está dado por:\n",
        "\n",
        "$$μ_{k}^{'} \\quad k= 1,2,3,...,t$$\n",
        "\n",
        "$$ \\text{o bien: } \\begin{cases}\n",
        "μ_{1}^{'} = m_{1}^{'} \\\\\n",
        "μ_{2}^{'} = m_{2}^{'} \\\\\n",
        ". \\quad \\quad \\quad \\quad \\quad \\quad k=t \\\\\n",
        ". \\\\\n",
        "μ_{k}^{'} = m_{k}^{'}\n",
        "\\end{cases}$$\n",
        "\n",
        "###Ejemplo 1\n",
        "Sea $X_1, ..., X_n$ idd suponga que la distribución tiene un parámetro θ.\n",
        "Supongamos que la media $μ = h(\\theta)$ es una función inversible del parámetro.\n",
        "Entonces el estimador del parámetro es $\\tilde{\\theta} = h ^{-1}\\bar{x}$\n",
        "\n",
        "Ejemplo: $X_i \\backsim bin(n=10,p)$\n",
        "\n",
        "Media: $μ = 10p$\n",
        "\n",
        "Estimador: $\\tilde{p} = \\bar{x}/10$\n",
        "\n",
        "###Ejemplo 2:\n",
        "Supongamos que la distribución tiene dos parámetros $θ_1$ y $θ_2$. Supongamos que\n",
        "$$\\begin{bmatrix}μ\\\\σ^2\\end{bmatrix} = h(θ_1,θ_2)$$\n",
        "Suponga que $\\mathbb{h} : \\mathbb{R}^2 ⇒ \\mathbb{R}^2$ es inversible.\n",
        "Entonces los estimadores de los parámetros son\n",
        "$$\\begin{bmatrix}\\tilde{θ}_1\\\\\\tilde{θ}_2\\end{bmatrix} = h^{-1}(\\bar{x},s^2)$$\n",
        "\n",
        "Ejemplo: $X_i \\backsim gamma(\\alpha,\\beta)$\n",
        "\n",
        "Media: $μ = \\alpha \\beta$\n",
        "\n",
        "Varianza: $σ^2 = \\alpha β^2$\n",
        "\n",
        "Estimadores:\n",
        "$$ \\tilde{α} = \\frac{\\bar{x}^2}{s^2}, \\quad \\bar{\\beta} = \\frac{s^2}{\\bar{x}} $$\n",
        "\n",
        "\n"
      ],
      "metadata": {
        "id": "3YlcLJvwSqUQ"
      }
    },
    {
      "cell_type": "markdown",
      "source": [
        "## 2. Calcula el MLE para la media $\\mu$ y varianza $\\sigma^2$ de una muestra normal.\n",
        "\n",
        "Supongamos que tenemos una muestra de datos $X_1, X_2, \\ldots, X_n$ de una distribución normal con media $\\mu$ y varianza $\\sigma^2$.\n",
        "\n",
        "- Primero calculamos el Estimador de MLE para la Media $\\mu$:\n",
        "\n",
        "El estimador de MLE para la media es simplemente la media muestral: $ \\hat{\\mu} = \\frac{1}{n} \\sum_{i=1}^{n} X_i  = \\bar{x}$\n",
        "\n",
        "Por la ley (débil) de los números grandes: Si existe la varianza de x entonces $\\bar{x}$ es un es un estimador consistente de la media poblacional $µ$\n",
        "\n",
        "$$\\text{Lim}_{n→∞}\\bar{x} = μ$$\n",
        "\n",
        "Valor esperado de $\\bar{x}$:\n",
        "\n",
        "$$ E[\\bar{x}] = E[\\frac{1}{n}\\sum_{i=1}^{n}x_i] = \\frac{1}{n}\\sum_{i=1}^{n}E[x_i] = \\frac{1}{n}\\sum_{i=1}^{n}\\mu_{i}= μ$$\n",
        "\n",
        "Por lo tanto la media muestral \\bar{x} es un estimador sin sesgo de la media poblacional $\\mu$\n",
        "\n",
        "- Estimador de MLE para la Varianza $\\sigma^2$:\n",
        "\n",
        "El estimador de MLE para la varianza es:\n",
        "\n",
        "$$ \\hat{s}^2 = \\frac{1}{n-1} \\sum_{i=1}^{n} (X_i - \\hat{\\mu})^2 = \\frac{n}{n-1} \\langle{x^{2}}\\rangle - \\langle{\\mu^2}\\rangle \\text{ donde } \\bar{x} = \\langle{x}\\rangle $$\n",
        "\n",
        "Al igual que para la media, puede demostrarse que la varianza muestral es un estimador sin sesgo de la varianza poblacional $σ^2$ . Si la media se conoce entonces también es un estimador sin sesgo la cantidad $S^2$.\n",
        "\n",
        "$$ S^2 = \\frac{1}{n-1}\\sum(x_i-\\mu)^2 = \\langle{x^2}\\rangle - \\langle{\\mu^2}\\rangle $$\n",
        "\n",
        "Analogamente para la covarianza es:\n",
        "\n",
        "$$ \\hat{V}_{xy} \\frac{1}{n} \\sum_{i=1}^{n} (x_i - \\bar{x})(y_i - \\bar{y}) = \\frac{n}{n-1} \\langle{xy}\\rangle - \\langle{x}\\rangle \\langle{y}\\rangle$$\n"
      ],
      "metadata": {
        "id": "ShhDsHutwiDY"
      }
    },
    {
      "cell_type": "code",
      "source": [
        "import numpy as np\n",
        "from scipy.stats import norm"
      ],
      "metadata": {
        "id": "hFBzkc7TGULY"
      },
      "execution_count": null,
      "outputs": []
    },
    {
      "cell_type": "markdown",
      "source": [
        "**Example 8.17**\n",
        "\n",
        "(Public Opinion Polling) We would like to estimate the portion of people who plan to vote for Candidate A in an upcoming election. It is assumed that the number of voters is large, and $θ$ is the portion of voters who plan to vote for Candidate $A$. We define the random variable $X$ as follows. A voter is chosen uniformly at random among all voters and we ask her/him: \"Do you plan to vote for Candidate $A$?\" If she/he says \"yes,\" then $X=1$, otherwise $X=0$. Then,\n",
        "\n",
        "$$X\\sim Bernoulli(θ)$$\n",
        "\n",
        "Let $X_{1}, X_{2}, X_{3}, ..., X_{n}$ be a random sample from this distribution, which means that the $X_{i}'s$ are i.i.d. and $X_{i}∼Bernoulli(θ)$. In other words, we randomly select $n$ voters (with replacement) and we ask each of them if they plan to vote for Candidate A. Find a $(1−α)100%$ confidence interval for $θ$ based on $X_{1}, X_{2}, X_{3}, ..., X_{n}$.\n",
        "\n",
        "**Solucion**\n",
        "\n",
        "Recordemos que la esperanza esta dada por\n",
        "\n",
        "$$EX_{i}=\\theta$$\n",
        "\n",
        "y la varianza esta dada por:\n",
        "\n",
        "$$Var(X_{i})=\\sigma^{2}=\\theta(1-\\theta)$$\n",
        "\n",
        "sabemos que si podemos encontrar un límite superior para $\\sigma$ podemos usarlo para construir un intervalo de confianza para $\\theta$. Por lo cual definimos:\n",
        "\n",
        "$$f(\\theta)=\\theta(1-\\theta), \\ para \\ \\theta\\in[0,1]$$\n",
        "\n",
        "derivamos $f(\\theta)$ para obtener su maximo valor:\n",
        "\n",
        "$$f´(\\theta)=\\frac{d}{d\\theta}[\\theta(1-\\theta)]=1-2\\theta$$\n",
        "\n",
        "Igualamos a cero\n",
        "\n",
        "$$1-2\\theta=0$$\n",
        "$$\\theta=\\frac{1}{2}$$\n",
        "\n",
        "Evaluamos en el intervalo, entonces\n",
        "\n",
        "$$f(\\theta)=f(\\frac{1}{2})=\\frac{1}{4}$$\n",
        "\n",
        "concluimos pues que\n",
        "\n",
        "$$\\sigma_{max}=\\frac{1}{2}$$\n",
        "\n",
        "es un limite superior para $\\sigma$. Por lo tanto, el intervalo:\n",
        "\n",
        "$$\\left [ \\overline{X} - Z_{\\frac{\\alpha}{2}}\\frac{\\sigma_{max}}{\\sqrt{n}},\\overline{X} + Z_{\\frac{\\alpha}{2}}\\frac{\\sigma_{max}}{\\sqrt{n}}\\right ]$$\n",
        "\n",
        "es un $(1-\\alpha)100\\%$ intervalo de confianza para $\\theta$, donde $\\sigma_{max}=\\frac{1}{2}$, asi\n",
        "\n",
        "$$\\left [ \\overline{X} - \\frac{Z_{\\frac{\\alpha}{2}}}{2\\sqrt{n}}, \\overline{X} + \\frac{Z_{\\frac{\\alpha}{2}}}{2\\sqrt{n}}\\right ]$$\n",
        "\n",
        "es un $(1-\\alpha)100\\%$ intervalo de confianza para $\\theta$. Como obtuvimos el intervalo utilizando el TLC, por lo que es un intervalo aproximado. Sin embargo, para grandes $n$, la aproximación es muy buena. Además, dado que hemos utilizado un límite superior para $\\sigma$ este intervalo de confianza podría ser demasiado conservador, especialmente si $\\theta$ está lejos de $\\frac{1}{2}$."
      ],
      "metadata": {
        "id": "mFcoEUbApLIA"
      }
    },
    {
      "cell_type": "markdown",
      "source": [
        "**Problem 2**\n",
        "\n",
        "$A$ random sample $X_{1}, X_{2}, X_{3}, ..., X_{100}$ is given from a distribution with known variance $Var(X_{i})=16$. For the observed sample, the sample mean is $\\overline{X}=23.5$. Find an approximate $95\\%$ confidence interval for $θ=EX_{i}$."
      ],
      "metadata": {
        "id": "5wuBrn3uQase"
      }
    },
    {
      "cell_type": "code",
      "source": [
        "# Datos del problema\n",
        "m = 23.5  # media muestral\n",
        "n = 100             # tamaño de la muestra\n",
        "s = 4           # desviación estándar poblacional (sqrt(16))\n",
        "\n",
        "cl = 0.95 # Nivel de confianza del 95%\n",
        "\n",
        "# Calculamos el error estándar de la media muestral\n",
        "se = s / np.sqrt(n)\n",
        "\n",
        "# Calculamos el valor crítico Z para el nivel de confianza del 95%\n",
        "# Ya que es un intervalo de dos colas, usamos el percentil 2.5 y 97.5\n",
        "z_c = norm.ppf(1 - (1 - cl) / 2)\n",
        "\n",
        "# Calculamos el margen de error\n",
        "m_e = z_c * se\n",
        "\n",
        "# Calculamos el intervalo de confianza\n",
        "c_i = (m - m_e, m + m_e)\n",
        "\n",
        "# Imprimimos el resultado\n",
        "print(f\"Intervalo de confianza del {cl*100}% para la media poblacional:\")\n",
        "print(f\"({c_i[0]:.2f}, {c_i[1]:.2f})\")"
      ],
      "metadata": {
        "colab": {
          "base_uri": "https://localhost:8080/"
        },
        "id": "UVJRTNZAGgdB",
        "outputId": "0588ec4d-7227-4e53-bf87-bf3e0225b88e"
      },
      "execution_count": null,
      "outputs": [
        {
          "output_type": "stream",
          "name": "stdout",
          "text": [
            "Intervalo de confianza del 95.0% para la media poblacional:\n",
            "(22.72, 24.28)\n"
          ]
        }
      ]
    },
    {
      "cell_type": "markdown",
      "source": [
        "**Problem 3**\n",
        "\n",
        "To estimate the portion of voters who plan to vote for Candidate $A$ in an election, a random sample of size $n$ from the voters is chosen. The sampling is done with replacement. Let $θ$ be the portion of voters who plan to vote for Candidate $A$ among all voters. How large does $n$ need to be so that we can obtain a $90\\%$ confidence interval with $3\\%$ margin of error? That is, how large $n$ needs to be such that\n",
        "\n",
        "$$P(\\overline{X}−0.03≤θ≤\\overline{X}+0.03)≥0.90,$$\n",
        "\n",
        "where $\\overline{X}$ is the portion of people in our random sample that say they plan to vote for Candidate $A$."
      ],
      "metadata": {
        "id": "3_KVecW_UKCm"
      }
    },
    {
      "cell_type": "code",
      "source": [
        "# Parámetros dados\n",
        "cl = 0.90 # Nivel de confianza del 90%\n",
        "m_e = 0.03 #margen de error\n",
        "\n",
        "# Nivel de significancia\n",
        "alpha = 1 - cl\n",
        "\n",
        "# Encontrar el valor crítico z_alpha/2\n",
        "z_alpha_2 = norm.ppf(1 - alpha/2)\n",
        "\n",
        "# Calcular el tamaño de la muestra n\n",
        "n = ((z_alpha_2 / m_e) ** 2) * 0.25  # Usamos 0.25 para máxima varianza (p=0.5)\n",
        "\n",
        "# Redondeamos hacia arriba porque n debe ser un entero\n",
        "n = np.ceil(n)\n",
        "\n",
        "# Mostrar el resultado\n",
        "print(f\"Tamaño de muestra necesario para obtener un intervalo de confianza del {cl*100}% con margen de error {m_e}:\")\n",
        "print(f\"n >= {int(n)}\")\n"
      ],
      "metadata": {
        "colab": {
          "base_uri": "https://localhost:8080/"
        },
        "id": "_b5Gxt7vKlnt",
        "outputId": "5b188555-9397-4d6a-f017-202bc47b0eec"
      },
      "execution_count": null,
      "outputs": [
        {
          "output_type": "stream",
          "name": "stdout",
          "text": [
            "Tamaño de muestra necesario para obtener un intervalo de confianza del 90.0% con margen de error 0.03:\n",
            "n >= 752\n"
          ]
        }
      ]
    },
    {
      "cell_type": "markdown",
      "source": [
        "**Problem 4**\n",
        "\n",
        "a) Let $X$ be a random variable such that $R_{X}⊂[a,b]$, i.e., we always have $a≤X≤b$. Show that\n",
        "\n",
        "$$Var(X)≤\\frac{(b-a)^{2}}{4}$$\n",
        "\n",
        "b) Let $X_{1}, X_{2}, X_{3}, ..., X_{n}$ be a random sample from an unknown distribution with CDF $F_{X}(x)$ such that $R_{X}⊂[a,b]$. Specifically, $EX$ and $Var(X)$ are unknown. Find a $(1−α)100\\%$ confidence interval for $θ=EX$. Assume that $n$ is large."
      ],
      "metadata": {
        "id": "cWKgzcTzU6wv"
      }
    },
    {
      "cell_type": "markdown",
      "source": [
        "**Solucion**\n",
        "\n",
        "a) Para demostrar que $\\text{Var}(X) \\leq \\frac{(b-a)^2}{4}$ cuando $X$ es una variable aleatoria tal que su rango $R_{X}$ está contenido en el intervalo $[a, b]$\n",
        "Recordemos que:\n",
        "\n",
        "La varianza de $X$ está definida como:\n",
        "\n",
        "$$Var(X) = E[(X - E[X])^2]$$\n",
        "\n",
        "Dado que $X$ está acotada en el intervalo $[a, b]$, podemos utilizar la siguiente propiedad para cualquier variable aleatoria $X$ que está acotada entre dos constantes $a$ y $b$:\n",
        "\n",
        "$$(X - E[X])^2 \\leq \\left( \\frac{b-a}{2} \\right)^2$$\n",
        "\n",
        "Esto se debe a que el máximo valor que $X$ puede tomar en el intervalo $[a, b]$ es $b$ y el mínimo valor es $a$, por lo tanto, $X - E[X]$ también estará acotado entre $-\\frac{b-a}{2}$ y $\\frac{b-a}{2}$.\n",
        "\n",
        "Tomando la esperanza en ambos lados tenemos:\n",
        "\n",
        "\\begin{align*}\n",
        "   E[(X - E[X])^2]\n",
        "   & \\leq E \\left[ \\left( \\frac{b-a}{2} \\right)^2 \\right]\\\\\n",
        "   &=E \\left[ \\left( \\frac{b-a}{2} \\right)^2 \\right]\\\\\n",
        "   & = \\left( \\frac{b-a}{2} \\right)^2 \\\\\n",
        "   &= \\frac{(b-a)^2}{4}\n",
        "\\end{align*}\n",
        "\n",
        "Por lo tanto,\n",
        "   $$Var(X) \\leq \\left( \\frac{b-a}{2} \\right)^2 = \\frac{(b-a)^2}{4}  \n",
        "     \\ \\ \\blacksquare $$"
      ],
      "metadata": {
        "id": "sbYOq5WiMhjp"
      }
    },
    {
      "cell_type": "markdown",
      "source": [
        "**Solucion:**\n",
        "\n",
        "b) Para encontrar un intervalo de confianza para la media poblacional $\\theta = E[X]$ utilizando una muestra aleatoria $X_{1}, X_{2}, \\ldots, X_{n}$ de una distribución desconocida pero acotada en el intervalo $[a, b]$\n",
        "\n",
        "Tenemos el limite superior de $\\sigma$\n",
        "\n",
        "$$\\sigma_{max}=\\frac{b-a}{2}$$\n",
        "\n",
        "De esta forma se define el intervalo como\n",
        "$$\\left [ \\overline{X} - Z_{\\frac{\\alpha}{2}}\\frac{\\sigma_{max}}{\\sqrt{n}},\\overline{X} + Z_{\\frac{\\alpha}{2}}\\frac{\\sigma_{max}}{\\sqrt{n}}\\right ]$$\n",
        "\n",
        "esto es un $(1-\\alpha)100\\%$ intervalo de confianza para $\\theta$, para este caso\n",
        "\n",
        "$$\\left [ \\overline{X} - Z_{\\frac{\\alpha}{2}}\\frac{b-a}{\\sqrt{n}},\\overline{X} + Z_{\\frac{\\alpha}{2}}\\frac{b-a}{\\sqrt{n}}\\right ]$$\n",
        "\n",
        "es un $(1-\\alpha)100\\%$ intervalo de confianza para $\\theta$"
      ],
      "metadata": {
        "id": "yP22EMK9Rh20"
      }
    },
    {
      "cell_type": "markdown",
      "source": [
        "**Problem 5**\n",
        "\n",
        "A random sample $X_{1}, X_{2}, X_{3}, ..., X_{144}$ is given from a distribution with unknown variance $Var(Xi)=σ^{2}$. For the observed sample, the sample mean is $x̄=55.2$, and the sample variance is $Var[X]=34.5$. Find a 99% confidence interval for $θ=EX_{i}$.\n",
        "\n",
        "\n"
      ],
      "metadata": {
        "id": "12iOxht1fPtb"
      }
    },
    {
      "cell_type": "markdown",
      "source": [
        "**Solución**\n",
        "\n",
        "Dado la siguiente formula para encontrar el intervalo de confianza esta dado por:\n",
        "\n",
        "$$\\left [ \\overline{X} - Z_{\\frac{\\alpha}{2}}\\frac{S}{\\sqrt{n}},\\overline{X} + Z_{\\frac{\\alpha}{2}}\\frac{S}{\\sqrt{n}}\\right ]$$\n",
        "\n",
        "Con un 99% de confianza, de acuerdo a:\n",
        "\n",
        "$$  (1-𝛼)100 = (1-0.01)100 = 99$$\n",
        "\n",
        "Entonces:\n",
        "\n",
        "$$\\left [ 55.2 - 2.58 \\frac{34.5}{12},55.2 + 2.58\\frac{34.5}{12}\\right ] ≈ [53.94,56.46]$$\n"
      ],
      "metadata": {
        "id": "DPbAuCQAkgNN"
      }
    },
    {
      "cell_type": "code",
      "source": [
        "import math\n",
        "\n",
        "n = 144\n",
        "x_bar = 55.2\n",
        "s_squared = 34.5\n",
        "\n",
        "s = math.sqrt(s_squared)\n",
        "\n",
        "z = 2.576\n",
        "\n",
        "SE = s / math.sqrt(n)\n",
        "\n",
        "margin_of_error = z * SE\n",
        "\n",
        "c_interval = (x_bar - margin_of_error, x_bar + margin_of_error)\n",
        "c_interval"
      ],
      "metadata": {
        "colab": {
          "base_uri": "https://localhost:8080/"
        },
        "id": "7JRzxTcOq2F4",
        "outputId": "f845e272-a916-4860-9ef7-c27f33553ad7"
      },
      "execution_count": null,
      "outputs": [
        {
          "output_type": "execute_result",
          "data": {
            "text/plain": [
              "(53.93911882664015, 56.46088117335986)"
            ]
          },
          "metadata": {},
          "execution_count": 2
        }
      ]
    },
    {
      "cell_type": "code",
      "source": [],
      "metadata": {
        "id": "x4_gTZFFrJUH"
      },
      "execution_count": null,
      "outputs": []
    },
    {
      "cell_type": "markdown",
      "source": [
        "#Problema 6"
      ],
      "metadata": {
        "id": "BDLGFOsZBmy7"
      }
    },
    {
      "cell_type": "markdown",
      "source": [
        "Se obtiene una muestra aleatoria $X_1$, $X_2$, $X_3$, $...$, $X_{16}$ de una distribución normal con media desconocida $\\mu=EX_i$ y varianza desconocida $\\textrm{Var}(X_i)=\\sigma^2$. Para la muestra observada, la media muestral es $\\overline{X}=16,7$ y la varianza muestral es $S^2=7,5$. X1\n",
        ",X2\n",
        ",X3\n",
        ",. . .\n",
        ",Xdieciséis\n",
        "Se da a partir de una distribución normal con media desconocida.μ = EXi\n",
        "y varianza desconocidaVariedad (Xi) =σ2\n",
        "Para la muestra observada, la media muestral esX¯¯¯¯= 16,7\n",
        ", y la varianza de la muestra esS2= 7,5\n",
        ".\n",
        "\n",
        "Encuentre un intervalo de confianza del $95 \\%$ para $\\mu$.95 %\n",
        "intervalo de confianza paramicras"
      ],
      "metadata": {
        "id": "-3m0SsLYB3FU"
      }
    },
    {
      "cell_type": "code",
      "source": [
        "import numpy as np\n",
        "from scipy.stats import t\n",
        "\n",
        "# Datos dados\n",
        "n = 16\n",
        "mean_sample = 16.7\n",
        "variance_sample = 7.5\n",
        "\n",
        "# Grados de libertad\n",
        "df = n - 1\n",
        "\n",
        "# Calculamos el error estándar de la media muestral (SEM)\n",
        "SEM = np.sqrt(variance_sample) / np.sqrt(n)\n",
        "\n",
        "# Calculamos el valor crítico t para el nivel de confianza del 95%\n",
        "t_critical = t.ppf(0.975, df)  # para alpha = 0.05 de dos colas\n",
        "\n",
        "# Calculamos el intervalo de confianza\n",
        "lower_bound = mean_sample - t_critical * SEM\n",
        "upper_bound = mean_sample + t_critical * SEM\n",
        "\n",
        "print(\"Intervalo de confianza del 95% para la media poblacional mu:\")\n",
        "print(f\"({lower_bound:.2f}, {upper_bound:.2f})\")"
      ],
      "metadata": {
        "colab": {
          "base_uri": "https://localhost:8080/"
        },
        "id": "PFLu5LFRBtan",
        "outputId": "c3b9e196-9cec-49ea-ae50-bd5f341f2922"
      },
      "execution_count": null,
      "outputs": [
        {
          "output_type": "stream",
          "name": "stdout",
          "text": [
            "Intervalo de confianza del 95% para la media poblacional mu:\n",
            "(15.24, 18.16)\n"
          ]
        }
      ]
    }
  ]
}