{
  "cells": [
    {
      "cell_type": "markdown",
      "metadata": {
        "id": "view-in-github",
        "colab_type": "text"
      },
      "source": [
        "<a href=\"https://colab.research.google.com/github/Erika-Dianney-Martinez/README/blob/main/Variables_aleatorias_discretas_Equipo_3_(ejercicios).ipynb\" target=\"_parent\"><img src=\"https://colab.research.google.com/assets/colab-badge.svg\" alt=\"Open In Colab\"/></a>"
      ]
    },
    {
      "cell_type": "markdown",
      "id": "d50d92d5",
      "metadata": {
        "id": "d50d92d5"
      },
      "source": [
        "# Variables aleatorias discretas"
      ]
    },
    {
      "cell_type": "code",
      "execution_count": 2,
      "id": "f207a80a",
      "metadata": {
        "id": "f207a80a"
      },
      "outputs": [],
      "source": [
        "import numpy as np\n",
        "import numpy.random as npr\n",
        "import scipy.stats as sps\n",
        "import matplotlib.pyplot as plt\n",
        "import random\n",
        "\n",
        "import warnings\n",
        "warnings.filterwarnings(\"ignore\")\n"
      ]
    },
    {
      "cell_type": "markdown",
      "id": "bd499bb5",
      "metadata": {
        "id": "bd499bb5"
      },
      "source": [
        "# Variable aleatoria uniforme discreta\n",
        "\n",
        "Una variable aleatoria $X$ tiene distribución uniforme discreta en el conjunto $\\{x_{1},\\dots,x_{n}\\}$ si su función de masa de probabilidades está dada por\n",
        "$$f_{X}(k)=\\mathbb{P}(X=k)=\\begin{cases}\n",
        "\\frac{1}{n} &\\quad \\text{si } k\\in\\{x_{1},\\dots,x_{n}\\} \\\\\n",
        "0 &\\quad \\text{en otro caso}\n",
        "\\end{cases}$$\n",
        "\n",
        "**Notación:** $X\\sim Unif(x_{1},\\dots,x_{n}).$\n",
        "\n",
        "Se llama uniforme porque cada uno de los posibles valores de $X$ tienen la misma probabilidad.\n",
        "\n",
        "Si $X\\sim Unif(x_{1},\\dots,x_{n})$, en este caso, se tiene:\n",
        "\t$$\\mathbb{E}[X] = \\sum_{k}kf_{X}(k)=\\frac{x_n + x_1}{2}.$$\n",
        "\ty\n",
        "\t$$\\text{Var}(X) = \\mathbb{E}[(X-\\mathbb{E}[X])^{2}] =\\sum_{k}(k-\\mathbb{E}[X])^{2}f_{X}(k)=\\frac{(x_n - x_1+1)^2-1}{12}$$\n",
        "\n",
        "$\\color{red}{\\text{Ejercicio 1.}}$ Verifica que, en efecto, la esperanza y varianza de una variable aleatoria geométrica está dada como antes.\n",
        "    \n"
      ]
    },
    {
      "cell_type": "code",
      "source": [
        "# Función para calcular la esperanza de una distribución uniforme discreta\n",
        "def esperanza_uniforme_discreta(x1, xn):\n",
        "    return (x1 + xn) / 2\n",
        "\n",
        "# Función para calcular la varianza de una distribución uniforme discreta\n",
        "def varianza_uniforme_discreta(x1, xn):\n",
        "    return ((xn - x1 + 1)**2 - 1) / 12\n",
        "\n",
        "# Ejemplo de uso:\n",
        "x1 = 1  # Primer valor del conjunto\n",
        "xn = 6  # Último valor del conjunto\n",
        "\n",
        "# Calcular esperanza y varianza\n",
        "esperanza = esperanza_uniforme_discreta(x1, xn)\n",
        "varianza = varianza_uniforme_discreta(x1, xn)\n",
        "\n",
        "# Mostrar resultados\n",
        "print(f'Esperanza de la distribución uniforme discreta: {esperanza}')\n",
        "print(f'Varianza de la distribución uniforme discreta: {varianza}')\n"
      ],
      "metadata": {
        "id": "c4tkJDbzT5fE",
        "outputId": "2fcda8fe-1405-4de2-bd0f-77266c82379f",
        "colab": {
          "base_uri": "https://localhost:8080/"
        }
      },
      "id": "c4tkJDbzT5fE",
      "execution_count": null,
      "outputs": [
        {
          "output_type": "stream",
          "name": "stdout",
          "text": [
            "Esperanza de la distribución uniforme discreta: 3.5\n",
            "Varianza de la distribución uniforme discreta: 2.9166666666666665\n"
          ]
        }
      ]
    },
    {
      "cell_type": "markdown",
      "source": [
        "$\\color{red}{\\text{Ejercicio 2.}}$ Dibuja a la función de distribución acumulada de la variable aleatoria:\n",
        "$$S:\\{1,2,3,4,5,6\\}^{2}\\to \\{2, 3, 4, 5, 6, 7, 8, 9, 10, 11, 12 \\}$$\n",
        "dada por\n",
        "$S(i,j)=i+j.$"
      ],
      "metadata": {
        "id": "UAQy3d5scoHX"
      },
      "id": "UAQy3d5scoHX"
    },
    {
      "cell_type": "code",
      "source": [
        "# Calcular la función de masa de probabilidad (FMP)\n",
        "probabilidades = {\n",
        "    2: 1/36,\n",
        "    3: 2/36,\n",
        "    4: 3/36,\n",
        "    5: 4/36,\n",
        "    6: 5/36,\n",
        "    7: 6/36,\n",
        "    8: 5/36,\n",
        "    9: 4/36,\n",
        "    10: 3/36,\n",
        "    11: 2/36,\n",
        "    12: 1/36\n",
        "}\n",
        "\n",
        "# Mostrar las probabilidades\n",
        "for suma, prob in probabilidades.items():\n",
        "    print(f\"P(S = {suma}) = {prob}\")\n"
      ],
      "metadata": {
        "colab": {
          "base_uri": "https://localhost:8080/"
        },
        "id": "JhEusm4ju4fG",
        "outputId": "8797f29d-09bb-4f83-bd60-1910321eed53"
      },
      "id": "JhEusm4ju4fG",
      "execution_count": null,
      "outputs": [
        {
          "output_type": "stream",
          "name": "stdout",
          "text": [
            "P(S = 2) = 0.027777777777777776\n",
            "P(S = 3) = 0.05555555555555555\n",
            "P(S = 4) = 0.08333333333333333\n",
            "P(S = 5) = 0.1111111111111111\n",
            "P(S = 6) = 0.1388888888888889\n",
            "P(S = 7) = 0.16666666666666666\n",
            "P(S = 8) = 0.1388888888888889\n",
            "P(S = 9) = 0.1111111111111111\n",
            "P(S = 10) = 0.08333333333333333\n",
            "P(S = 11) = 0.05555555555555555\n",
            "P(S = 12) = 0.027777777777777776\n"
          ]
        }
      ]
    },
    {
      "cell_type": "code",
      "source": [
        "# Calcular la función de distribución acumulada (FDA)\n",
        "acumulada = 0\n",
        "fda = {}\n",
        "\n",
        "for suma in range(2, 13):\n",
        "    acumulada += probabilidades[suma]\n",
        "    fda[suma] = acumulada\n",
        "\n",
        "# Mostrar la FDA\n",
        "for suma, prob_acum in fda.items():\n",
        "    print(f\"F_S({suma}) = {prob_acum}\")\n"
      ],
      "metadata": {
        "id": "iGJ1w_Gqu9uw",
        "outputId": "990542ab-28a0-494f-8d19-1bf39e887a9c",
        "colab": {
          "base_uri": "https://localhost:8080/"
        }
      },
      "id": "iGJ1w_Gqu9uw",
      "execution_count": null,
      "outputs": [
        {
          "output_type": "stream",
          "name": "stdout",
          "text": [
            "F_S(2) = 0.027777777777777776\n",
            "F_S(3) = 0.08333333333333333\n",
            "F_S(4) = 0.16666666666666666\n",
            "F_S(5) = 0.2777777777777778\n",
            "F_S(6) = 0.4166666666666667\n",
            "F_S(7) = 0.5833333333333334\n",
            "F_S(8) = 0.7222222222222223\n",
            "F_S(9) = 0.8333333333333335\n",
            "F_S(10) = 0.9166666666666669\n",
            "F_S(11) = 0.9722222222222224\n",
            "F_S(12) = 1.0000000000000002\n"
          ]
        }
      ]
    },
    {
      "cell_type": "code",
      "source": [
        "import matplotlib.pyplot as plt\n",
        "\n",
        "# Valores de S\n",
        "k_values = list(fda.keys())\n",
        "\n",
        "# Probabilidades acumuladas\n",
        "F_S = list(fda.values())\n",
        "\n",
        "# Graficar la FDA\n",
        "plt.step(k_values, F_S, where='post')\n",
        "plt.xlabel('k')\n",
        "plt.ylabel('$F_S(k)$')\n",
        "plt.title('Función de Distribución Acumulada (FDA) de S')\n",
        "plt.xticks(k_values)\n",
        "plt.grid(True)\n",
        "plt.show()\n"
      ],
      "metadata": {
        "id": "zldKNQatvAbu",
        "outputId": "8c591bbc-fd78-48f6-ca90-057384169de3",
        "colab": {
          "base_uri": "https://localhost:8080/",
          "height": 472
        }
      },
      "id": "zldKNQatvAbu",
      "execution_count": null,
      "outputs": [
        {
          "output_type": "display_data",
          "data": {
            "text/plain": [
              "<Figure size 640x480 with 1 Axes>"
            ],
            "image/png": "[encoded data removed]"
          },
          "metadata": {}
        }
      ]
    },
    {
      "cell_type": "markdown",
      "source": [
        "# Variable aleatoria Poisson\n",
        "\n",
        "**Ejemplo:** Supongamos que el número de accidentes que ocurre en un punto tiene una distribución Poisson con parámetro $\\lambda=2$.\n",
        "* ¿Cuál es la probabilidad de que en un día ocurran más de dos accidentes?\n",
        "  $$\\begin{align*}\n",
        "\t\\mathbb{P}(X>2) &= 1-\\mathbb{P}(X\\le 2) \\\\ &=1-\\left[\\mathbb{P}(X=0)+\\mathbb{P}(X=1)+\\mathbb{P}(X=2)\\right] \\\\ &= 1-\\left[\\frac{e^{-2}2^{0}}{0!}+\\frac{e^{-2}2^{1}}{1!}+\\frac{e^{-2}2^{2}}{2!}\\right] \\\\ &= 1-e^{-2}\\left[1+2+2\\right] = 1-5e^{-2} = 0.3233\n",
        "  \\end{align*}$$\n",
        "\n",
        "* ¿Cuál es la probabilidad de que en un día ocurran más de dos accidentes, sabiendo que ocurre por lo menos uno?\n",
        "$$\\begin{align*}\n",
        "\\mathbb{P}(X>2 \\mid X\\ge 1) = \\frac{\\mathbb{P}(X>2 \\mid X\\ge 1)}{\\mathbb{P}(X\\ge 1)} = \\frac{\\mathbb{P}(X>2)}{\\mathbb{P}(X\\ge 1)} = \\frac{1-5e^{-2}}{1-e^{-2}} = \\frac{0.3233}{0.8646} = 0.3739\n",
        "\\end{align*}$$\n",
        "ya que $\\mathbb{P}(X\\ge 1)=1-\\mathbb{P}(X<1)=1-\\mathbb{P}(X=0)=1-e^{-2}$\n",
        "\n",
        "$\\color{red}{\\text{Ejercicio 3.}}$ Usando el atributo `.cdf` [Poisson](https://docs.scipy.org/doc/scipy/reference/generated/scipy.stats.poisson.html) calcula las probabilidades anteriores.\n"
      ],
      "metadata": {
        "id": "73pLB0Hmg5e4"
      },
      "id": "73pLB0Hmg5e4"
    },
    {
      "cell_type": "code",
      "source": [
        "## Ejercicio 3\n",
        "\n",
        "#¿Cuál es la probabilidad de que en un día ocurran más de dos accidentes?\n",
        "\n",
        "#Importamos la libreria spicy.stats e importamos la funcion Poisson, importamos igual matplotlib para graficar\n",
        "import numpy as np\n",
        "import scipy.stats as sps\n",
        "from scipy.stats import poisson\n",
        "import matplotlib.pyplot as plt\n",
        "\n",
        "value_lambda = 2\n",
        "#Calculamos la probabilidad Acumulada CDF de que sea menor o igual a 2, con λ = 2\n",
        "probabilidad_acumulada = sps.poisson.cdf(2, value_lambda)\n",
        "\n",
        "#Pero como buscamos aquellos que sean mayor a 2, por propiedad, podemos restar 1-p\n",
        "probabilidad_acumulada = 1 - probabilidad_acumulada\n",
        "print(\"La probabilidad de que ocurran más de 2 accidentes es : \",probabilidad_acumulada)\n",
        "\n",
        "#¿Cuál es la probabilidad de que en un día ocurran más de dos accidentes, sabiendo que ocurre por lo menos uno?\n",
        "\n",
        "#Primero calculamos la probabilidad de al menos un evento\n",
        "probabilidad_menos_de_1 = 1 - sps.poisson.cdf(0, value_lambda)\n",
        "probabilidad_mayor_de_2 = 1 - sps.poisson.cdf(2, value_lambda)\n",
        "\n",
        "#Para calcular la probabilidad, por lo que hemos visto, tenemos que dividir\n",
        "probabilidad_acumulada = probabilidad_mayor_de_2 / probabilidad_menos_de_1\n",
        "print(\"La probabilidad de que en un día ocurran más de dos accidentes, sabiendo que ocurre por lo menos uno es : \",probabilidad_acumulada)"
      ],
      "metadata": {
        "colab": {
          "base_uri": "https://localhost:8080/"
        },
        "id": "xUrapt5zkvzU",
        "outputId": "e2178d02-d66f-4c4d-c043-01ce737d5f62"
      },
      "id": "xUrapt5zkvzU",
      "execution_count": null,
      "outputs": [
        {
          "output_type": "stream",
          "name": "stdout",
          "text": [
            "La probabilidad de que ocurran más de 2 accidentes es :  0.3233235838169366\n",
            "La probabilidad de que en un día ocurran más de dos accidentes, sabiendo que ocurre por lo menos uno es :  0.37392942900133747\n"
          ]
        }
      ]
    },
    {
      "cell_type": "markdown",
      "source": [
        "## Variable aleatoria Binomial Negativa con parámetros $r\\geq 1$ y $p\\in (0,1)$.\n",
        "\n",
        "Supongamos que se realizan ensayos independientes, cada uno con probabilidad $0<p<1$ de ser un éxito, hasta obtener un total de $r$ éxitos acumulados. Sea $X$ el número de ensayos que se requieren, entonces su función de masa de probabilidades está dada por:\n",
        "$$f_{X}(k)=\\begin{cases}\n",
        "\t\\binom{n-1}{r-1}p^{r}(1-p)^{n-r} &\\quad \\text{si } n=r,r+1,\\dots \\\\\n",
        "\t\\qquad 0 &\\quad \\text{en otro caso}  \n",
        "\\end{cases}$$\n",
        "\n",
        "\n",
        "\n",
        "Notación. $X\\sim \\text{BN}(r,p)$.\n",
        "\n",
        "Se tiene que\n",
        "$$\\mathbb{E}[X]=\\frac{r}{p}$$\n",
        "y\n",
        "$$\\text{Var}[X]=\\frac{r(1-p)}{p^2}.$$\n",
        "\n",
        "$\\color{red}{\\text{Ejercicio 4.}}$ Un examen de Estadística consta de 20 preguntas tipo test y se conoce de experiencias\n",
        "anteriores que un alumno tiene probabilidad 0.7 de contestar bien cada pregunta. Obtener:\n",
        "\n",
        "a) La probabilidad de que la primera pregunta que contesta bien sea la cuarta.\n",
        "\n",
        "b) Sabiendo que para aprobar el examen es necesario contestar bien a 10 preguntas, ¿cuál es la probabilidad de que apruebe al contestar la pregunta duodécima?\n",
        "\n"
      ],
      "metadata": {
        "id": "I39XPyC-nW6W"
      },
      "id": "I39XPyC-nW6W"
    },
    {
      "cell_type": "markdown",
      "source": [
        "***Solucion a):***\n",
        "\n",
        "$X$ es la variable aleatoria binomial que cuenta el número de preguntas contestadas correctamente hasta que la primera correcta sea la cuarta. $X$ tiene una distribución $Geo(0.7)$.\n",
        "\n",
        "Primero debemos calcular:\n",
        "\n",
        "$\\mathbb{P}(X=4)$ es la probabilidad de que exactamente las primeras tres preguntas sean incorrectas, entonces:\n",
        "\n",
        "$$\\begin{align*}\n",
        "\\mathbb{P}(X= 4)\n",
        "&=(1-0.7)^{4-1}*(0.7)\\\\\n",
        "&=(0.3)^{3}*(0.7)\\\\\n",
        "&=0.0189  \\\\\n",
        "\\end{align*}$$"
      ],
      "metadata": {
        "id": "eGImadt4tq-W"
      },
      "id": "eGImadt4tq-W"
    },
    {
      "cell_type": "code",
      "source": [
        "import scipy.stats as stats\n",
        "\n",
        "p = 0.7\n",
        "k = 4\n",
        "\n",
        "p_1 = stats.geom.pmf(k, p)\n",
        "print (round(p_1,4))"
      ],
      "metadata": {
        "colab": {
          "base_uri": "https://localhost:8080/"
        },
        "id": "6ljMAdCbdPSG",
        "outputId": "dc127126-08ed-45db-f8c8-e96724a315d3"
      },
      "id": "6ljMAdCbdPSG",
      "execution_count": 23,
      "outputs": [
        {
          "output_type": "stream",
          "name": "stdout",
          "text": [
            "0.0189\n"
          ]
        }
      ]
    },
    {
      "cell_type": "markdown",
      "source": [
        "**Solucion b):**\n",
        "\n",
        "$Y$ es la variable aleatoria binomial negativa parámetros $n=12$, $p=0.7$ y $k=10$.\n",
        "\n",
        "Vamos a calcular $\\mathbb{P}(X = 12)$ probabilidad de que apruebe contestando correctamente la pregunta numero 12\n",
        "$$\\begin{align*}\n",
        "\\mathbb{P}(X = 12)\n",
        "&= \\binom{11}{9} (0.7)^{10} (0.3)^{2} \\\\\n",
        "&= \\frac{11!}{(11-9)!*9!} (0.7)^{10} (0.3)^{2} \\\\\n",
        "&= 55* 0.02824* 0.09 \\\\\n",
        "&= 0.139825 \\\\\n",
        "\\end{align*}$$\n",
        "\n"
      ],
      "metadata": {
        "id": "eAo6ivrvUn3v"
      },
      "id": "eAo6ivrvUn3v"
    },
    {
      "cell_type": "code",
      "source": [
        "from scipy.stats import nbinom\n",
        "\n",
        "k = 12\n",
        "r = 10\n",
        "p = 0.7\n",
        "num_fracasos = k - r\n",
        "\n",
        "p_2 = nbinom.pmf(num_fracasos, r, p)\n",
        "print (round(p_2,4))"
      ],
      "metadata": {
        "colab": {
          "base_uri": "https://localhost:8080/"
        },
        "id": "2791f9v_iTv8",
        "outputId": "02160c83-8609-4f17-a3de-d23358520e85"
      },
      "id": "2791f9v_iTv8",
      "execution_count": 24,
      "outputs": [
        {
          "output_type": "stream",
          "name": "stdout",
          "text": [
            "0.1398\n"
          ]
        }
      ]
    },
    {
      "cell_type": "markdown",
      "source": [
        "$\\color{red}{\\text{Ejercicio 5.}}$ Investigue sobre el problema de la caja de cerillos de Banach y explique su solución."
      ],
      "metadata": {
        "id": "uX6MIx-ktlq5"
      },
      "id": "uX6MIx-ktlq5"
    },
    {
      "cell_type": "markdown",
      "source": [
        "El problema de coincidencia de Banach es un problema clásico de probabilidad atribuido a Stefan Banach.\n",
        "\n",
        "Supongamos que un matemático lleva dos cajas de cerillas en todo momento: una en el bolsillo izquierdo y otra en el derecho. Cada vez que necesita una cerilla, es igualmente probable que la saque de cualquiera de los bolsillos. Supongamos que mete la mano en el bolsillo y descubre por primera vez que la caja elegida está vacía. Si se supone que cada una de las cajas de cerillas contenía originalmente $N$ cerillas, ¿Cuál es la probabilidad de que haya exactamente\n",
        "$K$ cerillas en la otra caja?\n",
        "\n",
        "### Solución\n",
        "\n",
        "Si cada caja contiene $N$ cerillas, en el momento de encontrar una vacía la otra puede contener $0,1,2,...,N$ cerillas. Designemos por $Ar$ = {el bolsillo no vacío contiene $r$ cerillas}. Supongamos que la caja vacía es la del bolsillo izquierdo, para que ello ocurra $N − r$ fracasos (elecciones del bolsillo derecho) deben haber precedido al $N+1- ésimo$ éxito (elección del bolsillo derecho). En términos de una variable aleatoria $X ∼ BN(N + 1,1/2)$ se trata de obtener $P(X = N − r)$. El mismo argumento puede aplicarse si la caja vacía es la del bolsillo derecho. Así pues,\n",
        "\n",
        "\n",
        "$$pr =P(Ar)=2P(X=N−r)= $$\n",
        "\n",
        "$$2\\binom{2N - r}{N - r}\\frac{1}{2}^{N + 1}\\frac{1}{2}^{N - r}=\\binom{2N - r}{N - r}{2}^{-2N + r}$$\n",
        "\n",
        "\n",
        "\n",
        "Por ejemplo, para $N=50$ y $r=4$, $pr =0.074790$; para $r=29$, $pr = 0.000232$."
      ],
      "metadata": {
        "id": "SAcFQYmWAPO5"
      },
      "id": "SAcFQYmWAPO5"
    },
    {
      "cell_type": "markdown",
      "source": [
        "$\\color{red}{\\text{Ejercicio 6.}}$ Una compañía petrolera realiza un estudio geológico que indica que un pozo petrolero exploratorio debería tener un 20% de posibilidades de encontrar petróleo.\n",
        "\n",
        "- ¿Cuál es la probabilidad de que el primer pozo se produzca en el tercer pozo perforado?\n",
        "\n",
        "- ¿Cuál es la probabilidad de que el tercer pozo se produzca en el séptimo pozo perforado?\n",
        "\n",
        "- ¿Cuál es la media y la varianza del número de pozos que se deben perforar si la compañía petrolera quiere establecer tres pozos productores?"
      ],
      "metadata": {
        "id": "V1rp8sMJpwiz"
      },
      "id": "V1rp8sMJpwiz"
    },
    {
      "cell_type": "markdown",
      "source": [
        "\n",
        "\n",
        "- ¿Cuál es la probabilidad de que el primer pozo se produzca en el tercer pozo perforado?\n",
        "\n",
        "Utilizando la distribución geometrica que modela el número de ensayos necesarios para obtener el primer éxito en un experimento de Bernoulli. Tenemos que\n",
        "\n",
        "$$P(X=k)=q^{k−1}⋅p$$\n",
        "\n",
        "Donde la probabilidad de éxito\n",
        "$p = 0.2$ y $q = 1 - p = 1 - 0.2 = 0.8$ para el tercer intento  $k = 3$, entonces:\n",
        "\n",
        "$$P(X=3)=0.80^{3−1}(0.20)=0.80^{2}(0.20)$$\n",
        "$$P(X=3)=0.64(0.20)= 0.128$$\n",
        "\n",
        "La probabilidad es $p = 0.128 $"
      ],
      "metadata": {
        "id": "s3ObDbewAUUz"
      },
      "id": "s3ObDbewAUUz"
    },
    {
      "cell_type": "code",
      "source": [
        "import scipy.stats as stats\n",
        "\n",
        "p = 0.20\n",
        "k = 3\n",
        "\n",
        "p_1 = stats.geom.pmf(k, p)\n",
        "print (round(p_1,4))"
      ],
      "metadata": {
        "colab": {
          "base_uri": "https://localhost:8080/"
        },
        "id": "_VqvrEhwAl59",
        "outputId": "3479ec35-54cf-4f2d-ca12-5dfd2de67218"
      },
      "id": "_VqvrEhwAl59",
      "execution_count": null,
      "outputs": [
        {
          "output_type": "stream",
          "name": "stdout",
          "text": [
            "0.128\n"
          ]
        }
      ]
    },
    {
      "cell_type": "markdown",
      "source": [
        "- ¿Cuál es la probabilidad de que el tercer pozo se produzca en el séptimo pozo perforado?\n",
        "\n",
        "La probabilidad de que el tercer pozo con petróleo se produzca en el séptimo pozo perforado se puede calcular utilizando la fórmula de la distribución binomial negativa:\n",
        "\n",
        "$$P(X=k)= \\binom{k-1}{r-1} p^r (1-p)^{k-r} $$\n",
        "\n",
        "donde:\n",
        "\n",
        "$k=7$\n",
        "\n",
        "$r=3$\n",
        "\n",
        "$p=0.2$\n",
        "\n",
        "$1−p=0.8$\n",
        "\n",
        "Por lo tanto:\n",
        "\n",
        "$$P(X=7)= \\binom{6}{2} 0.2^3 (0.8)^{4} = 15 (0.008)(0.4096) = 0.049152 $$"
      ],
      "metadata": {
        "id": "_p_NPKmNAnDW"
      },
      "id": "_p_NPKmNAnDW"
    },
    {
      "cell_type": "code",
      "source": [
        "from scipy.stats import nbinom\n",
        "\n",
        "k = 7\n",
        "r = 3\n",
        "p = 0.2\n",
        "num_fracasos = k - r\n",
        "\n",
        "p_2 = nbinom.pmf(num_fracasos, r, p)\n",
        "print (round(p_2,4))"
      ],
      "metadata": {
        "colab": {
          "base_uri": "https://localhost:8080/"
        },
        "id": "luPdNybPArDS",
        "outputId": "f3ab943f-ef4c-490a-ba4d-0ebddc94f635"
      },
      "id": "luPdNybPArDS",
      "execution_count": null,
      "outputs": [
        {
          "output_type": "stream",
          "name": "stdout",
          "text": [
            "0.0492\n"
          ]
        }
      ]
    },
    {
      "cell_type": "markdown",
      "source": [
        "- ¿Cuál es la media y la varianza del número de pozos que se deben perforar si la compañía petrolera quiere establecer tres pozos productores?\n",
        "\n",
        "Para una distribución binomial negativa, se tiene que\n",
        "\n",
        "$$\\mathbb{E}[X]=\\frac{r}{p}$$\n",
        "y\n",
        "$$\\text{Var}[X]=\\frac{r(1-p)}{p^2}.$$\n",
        "\n",
        "Entonces:\n",
        "\n",
        "$r=3$\n",
        "\n",
        "$p=0.2$\n",
        "\n",
        "$$\\mathbb{E}[X]=\\frac{r}{p} = \\frac{3}{0.2} = 15$$\n",
        "\n",
        "$$\\text{Var}[X]=\\frac{r(1-p)}{p^2} = \\frac{3(0.8)}{0.2^2} = \\frac{2.4}{0.04} = 60$$"
      ],
      "metadata": {
        "id": "K_VLyyN0AuJT"
      },
      "id": "K_VLyyN0AuJT"
    }
  ],
  "metadata": {
    "colab": {
      "provenance": [],
      "include_colab_link": true
    },
    "kernelspec": {
      "display_name": "Python 3 (ipykernel)",
      "language": "python",
      "name": "python3"
    },
    "language_info": {
      "codemirror_mode": {
        "name": "ipython",
        "version": 3
      },
      "file_extension": ".py",
      "mimetype": "text/x-python",
      "name": "python",
      "nbconvert_exporter": "python",
      "pygments_lexer": "ipython3",
      "version": "3.9.13"
    }
  },
  "nbformat": 4,
  "nbformat_minor": 5
}