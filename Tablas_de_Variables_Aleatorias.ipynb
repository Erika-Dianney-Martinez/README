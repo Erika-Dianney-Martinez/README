{
  "nbformat": 4,
  "nbformat_minor": 0,
  "metadata": {
    "colab": {
      "provenance": [],
      "include_colab_link": true
    },
    "kernelspec": {
      "name": "python3",
      "display_name": "Python 3"
    },
    "language_info": {
      "name": "python"
    }
  },
  "cells": [
    {
      "cell_type": "markdown",
      "metadata": {
        "id": "view-in-github",
        "colab_type": "text"
      },
      "source": [
        "<a href=\"https://colab.research.google.com/github/Erika-Dianney-Martinez/README/blob/main/Tablas_de_Variables_Aleatorias.ipynb\" target=\"_parent\"><img src=\"https://colab.research.google.com/assets/colab-badge.svg\" alt=\"Open In Colab\"/></a>"
      ]
    },
    {
      "cell_type": "markdown",
      "source": [
        "# Variables Aleatorias Discretas"
      ],
      "metadata": {
        "id": "g5sfELEf01et"
      }
    },
    {
      "cell_type": "markdown",
      "source": [
        "**Uniforme Discreta**\n",
        "\n",
        "Si consideramos un experimento aleatorio arbitrario, y se observa una característica numérica que toma un número finito de valores, $x_1, ... , x_n$ todos con la misma probabilidad de ocurrencia, entonces su notación es:\n",
        "\n",
        "$$X \\sim (x_1, ... , x_n ) $$\n",
        "\n",
        "Donde: $x_i ∈ R ;  i = 1, ..., n ; x_1 < x_2 < ⋯ < x_n$\n",
        "\n",
        "La función masa de probabilidad es:\n",
        "\n",
        "$$P(X = x_i) = \\frac{1}{n}, i=1,..,n$$\n",
        "\n",
        "La función de distribución es:\n",
        "\n",
        "$$F_x(x) = \\begin{cases} 0 & \\text{si  } x < x_1 \\\\\n",
        "\\frac{i-1}{n} & \\text{si  } x_{i-1} \\leq x < x_i, \\text{ para } i=2, \\ldots, n \\\\\n",
        "1 & \\text{si  } x \\geq x_n \\end{cases}$$\n",
        "\n",
        "La función generadora de Momentos es:\n",
        "\n",
        "$$M_X(t) = \\frac{1}{n} ∑_{i=1}^{n}e^{tx_i}$$\n",
        "\n",
        "Donde: $t∈R$\n",
        "\n",
        "Su media la podemos expresar como:\n",
        "\n",
        "$$E[X]=\\frac{1}{n}∑_{i=1}^{n}x_i = \\bar{x}$$\n",
        "\n",
        "La varianza la podemos expresar como:\n",
        "\n",
        "$$Var(X)=\\frac{1}{n}∑_{i=1}^{n}(x_i-\\bar{x})^2$$"
      ],
      "metadata": {
        "id": "YxowjFHe1GIV"
      }
    },
    {
      "cell_type": "markdown",
      "source": [
        "**Bernoulli**\n",
        "\n",
        "la función de densidad de $X$ está dada por:\n",
        "\n",
        "$$f_{X}(k)=\\begin{cases}\n",
        "p &\\quad \\text{si } k=1 \\\\\n",
        "1-p &\\quad \\text{si } k=0\n",
        "\\end{cases}$$\n",
        "\n",
        "Y la función masa de probabilidad es:\n",
        "$$P[X=x] = p^x(1-p)^{1-x}$$\n",
        "\n",
        "Donde: x ∈ {0,1}\n",
        "\n",
        "La función generadora de momentos es:\n",
        "\n",
        "$ M_X(t) = E[e^{tX}] \\\\ = ∑_{x=0}^{1}e^{tx}P[X=x] = ∑_{x=0}^{1} e^{tx}p^x(1-p)^{1-x} \\\\\n",
        "= (1-p) + e^tp$\n",
        "\n",
        "Entonces:\n",
        "$$M_X(t) = 1 - p + pe^t$$\n",
        "\n",
        "Si $X\\sim \\text{Ber}(p)$, entonces su esperanza es:\n",
        "\\begin{align*}\n",
        "\\mathbb{E}[X] = \\sum_{k=0}^{1}kf_{X}(k) = 1\\cdot p + 0\\cdot (1-p) = p.\n",
        "\\end{align*}\n",
        "\n",
        "Y su varianza se calcula usando,\n",
        "$\\mathbb{E}[X^{2}] = \\sum_{k=0}^{1}k^{2}f_{X}(k) = 1^{2}\\cdot p + 0^{2}\\cdot (1-p) = p.$\n",
        "\n",
        "Entonces:\n",
        "$$\\text{Var}(X)=\\mathbb{E}[X^{2}]-(\\mathbb{E}[X])^{2} = p-p^{2} = p(1-p)$$"
      ],
      "metadata": {
        "id": "Wf8HNYzm1JRi"
      }
    },
    {
      "cell_type": "markdown",
      "source": [
        "**Binomial**\n",
        "\n",
        "Sea $X$ una v.a con distribucion binomial de parametros $n$ y $p$, tiene una funcion de probabilidad\n",
        "\n",
        "$$p_{X}(k)=\\binom{n}{k}p^{k}(1-p)^{n-k}$$\n",
        "\n",
        "La funcion generadora de momentos (funcion caracteristica) esta dada por:\n",
        "\n",
        "\\begin{align*}\n",
        "M_{X}(t)\n",
        "&=E(e^{tx})=\\sum_{x=0}^{n }e^{tk}\\binom{n}{k}p^{k}(1-p)^{n-k} \\\\\n",
        "&=\\sum_{x=0}^{n }\\binom{n}{k}(e^{t}p)^{k}(1-p)^{n-k} \\\\\n",
        "&=(e^{t}p+1-p)^{n}\n",
        "\\end{align*}\n",
        "\n",
        "Ahora calculamos la $\\mathbb{E}(X)$:\n",
        "\n",
        "$$\\mathbb{E}(X)=\\frac{\\partial M_{X}(t)}{\\partial t}|_{t=0}=\\frac{\\partial (e^{t}p+1-p)^{n} }{\\partial t}|_{t=0}= n(e^{t}p+1-p)^{n-1}p e^{t}|_{t=0}=np$$\n",
        "\n",
        "Como $V(X)=\\mathbb{E}(X^{2})-(\\mathbb{E}(X))^{2}$, calculemos $\\mathbb{E}(X^{2})$:\n",
        "\n",
        "\\begin{align*}\n",
        "\\mathbb{E}(X^{2})\n",
        "&=\\frac{\\partial ^{2}M_{x}(t)}{\\partial t^{2}}|_{t=0}=\\frac{\\partial  }{\\partial t}(n(e^{t}p+1-p)^{n-1}p e^{t})|_{t=0} \\\\\n",
        "&=(n(n-1)(e^{t}p+1-p)^{n-2}(p e^{t})^{2}+n(e^{t}p+1-p)^{n-1}p e^{t})|_{t=0} \\\\\n",
        "&=n(n-1)p^{2}+np\n",
        "\\end{align*}\n",
        "\n",
        "Como\n",
        "\\begin{align*}\n",
        "V(X)\n",
        "&=n(n-1)p^{2}+np-(np)^{2} \\\\\n",
        "&=-(np)^{2}-np \\\\\n",
        "&=np(1-p)\n",
        "\\end{align*}\n"
      ],
      "metadata": {
        "id": "_AJkU8DN1M7J"
      }
    },
    {
      "cell_type": "markdown",
      "source": [
        "**Poisson**\n",
        "\n",
        "Sea $X$ una v.a con distribucion poisson parametro $\\lambda $ tiene una funcion de probabilidad\n",
        "\n",
        "$$f_{X}(x)= e^{-\\lambda }\\frac{\\lambda ^{x}}{x!}$$\n",
        "\n",
        "La funcion generadora de momentos (funcion caracteristica) esta dada por:\n",
        "\\begin{align*}\n",
        "M_{X}(t)\n",
        "&=E(e^{tx})=\\sum_{x=0}^{\\infty }e^{tx}e^{-\\lambda }\\frac{\\lambda ^{x}}{x!} \\\\\n",
        "&=e^{-\\lambda }\\sum_{x=0}^{\\infty }\\frac{(\\lambda e^{t})^{x}}{x!}=e^{-\\lambda }e^{\\lambda e^{t}} \\\\\n",
        "&=e^{\\lambda (e^{t}-1)}\n",
        "\\end{align*}\n",
        "\n",
        "Ahora calculamos la $\\mathbb{E}(X)$:\n",
        "\n",
        "$$\\mathbb{E}(X)=\\frac{\\partial M_{X}(t)}{\\partial t}|_{t=0}=\\frac{\\partial }{\\partial t}\\left ( e^{\\lambda (e^{t}-1)} \\right )|_{t=0}={\\lambda }$$\n",
        "\n",
        "Como $V(X)=\\mathbb{E}(X^{2})-(\\mathbb{E}(X))^{2}$, calculemos $\\mathbb{E}(X^{2})$:\n",
        "\n",
        "\\begin{align*}\n",
        "\\mathbb{E}(X^{2})\n",
        "&=\\frac{\\partial ^{2}M_{x}(t)}{\\partial t^{2}}|_{t=0} \\\\\n",
        "&=M_{X}(t) \\lambda e^{t}(\\lambda e^{t} +1)|_{t=0} \\\\\n",
        "&=\\lambda (1+ \\lambda)\n",
        "\\end{align*}\n",
        "Como\n",
        "$$V(X)=\\lambda (1+ \\lambda)- \\lambda ^{2} =\\lambda $$\n"
      ],
      "metadata": {
        "id": "t8FL5dl71PXM"
      }
    },
    {
      "cell_type": "markdown",
      "source": [
        "**Geometrica**\n",
        "\n",
        "La función generadora de momentos (MGF) de una variable aleatoria geométrica con parámetro \\( p \\) se define como\n",
        "$M_X(t) = \\frac{pe^t}{1 - (1 - p)e^t} $.\n",
        "\n",
        "La funcion caracteristica es\n",
        "\n",
        "$\\varphi_X(t) = \\frac{pe^{it}}{1 - (1 - p)e^{it}}$\n",
        "\n",
        "Así que, para pasar de la Función Generadora de Momentos a la Función Característica, simplemente reemplazamos $t$ por $it$ en la expresión de la FGM. Esto nos da la Función Característica en términos de $t$, que es un parámetro real en el espacio de los números complejos.\n",
        "\n",
        "Para la varianza es derivando la MGF, teniendo como resultado $E(X) = \\frac{1}{p}$\n",
        "\n",
        "\n",
        "\n",
        "\n",
        "\n",
        "\n",
        "\n",
        "\n"
      ],
      "metadata": {
        "id": "22vD9_Q81SVP"
      }
    },
    {
      "cell_type": "markdown",
      "source": [
        " **Binomial Negativa**\n",
        "\n",
        " Supongamos que se realizan ensayos independientes, cada uno con probabilidad $0<p<1$ de ser un éxito, hasta obtener un total de $r$ éxitos acumulados. Sea $X$ el número de ensayos que se requieren, entonces su función de masa de probabilidades está dada por:\n",
        "$$f_{X}(k)=\\begin{cases}\n",
        "\t\\binom{n-1}{r-1}p^{r}(1-p)^{n-r} &\\quad \\text{si } n=r,r+1,\\dots \\\\\n",
        "\t\\qquad 0 &\\quad \\text{en otro caso}  \n",
        "\\end{cases}$$\n",
        "\n",
        "\n",
        "\n",
        "Notación. $X\\sim \\text{BN}(r,p)$.\n",
        "\n",
        "Se tiene que\n",
        "$$\\mathbb{E}[X]=\\frac{r}{p}$$\n",
        "y\n",
        "$$\\text{Var}[X]=\\frac{r(1-p)}{p^2}.$$"
      ],
      "metadata": {
        "id": "EwNlPVJ31UmO"
      }
    },
    {
      "cell_type": "markdown",
      "source": [
        "**Hipergeometrica**\n",
        "la función de densidad de $X$ está dada por:\n",
        "\n",
        "$$f_{X}(k)=\n",
        "\t\\frac{\\binom{m}{i}\\binom{N-m}{n-i}}{\\binom{N}{n}} \\quad \\text{si } i=0,1,\\dots, n  \n",
        "$$\n",
        "\n",
        "La función generadora de momentos es:\n",
        "\n",
        "$$M_X(t) = \\sum_{x=max(0,n(N-N_1))}^{min(n,N_1)}e^{tx} \\binom{N}{n}^{-1} \\binom{N_1}{x} \\binom{N-N_1}{n-x} $$\n",
        "\n",
        "donde: $t ∈ R$\n",
        "\n",
        "Su media es:\n",
        "\n",
        "$$\\mathbb{E}[X]=\\frac{nm}{N}$$\n",
        "\n",
        "Su varianza está dado por:\n",
        "\n",
        "$$\\text{Var}[X]=\\frac{nm}{N}\\left[\\frac{(n-1)(m-1)}{N-1}+1-\\frac{nm}{N} \\right].$$\n",
        "\n",
        "su función de probabilidad es:\n",
        "\n",
        "Si $i\\leq n$ y $X\\sim \\text{Hiper}(n,N,m)$, cuando $p=\\frac{m}{N}$ y $m,N$ son muy grandes con respecto a $n$ e $i$:\n",
        "$$\\mathbb{P}(X=i)\\approx \\binom{n}{i}p^{i}(1-p)^{n-i}.$$\n",
        "\n"
      ],
      "metadata": {
        "id": "tYF-61hv1aWI"
      }
    },
    {
      "cell_type": "markdown",
      "source": [
        "# Variables Aleatorias Continuas"
      ],
      "metadata": {
        "id": "RmUv-wfl1AsI"
      }
    },
    {
      "cell_type": "markdown",
      "source": [
        "**Uniforme**\n",
        "\n",
        "# Variable Aleatoria Continua Uniforme\n",
        "\n",
        "Una variable aleatoria continua uniforme es un tipo de variable aleatoria que tiene la misma probabilidad de tomar cualquier valor dentro de un intervalo específico. Este tipo de distribución se denomina **distribución uniforme continua**.\n",
        "\n",
        "\n",
        "## Función de Densidad de Probabilidad (pdf)\n",
        "La función de densidad de probabilidad para $(X) $es:\n",
        "$\n",
        "\n",
        "f(x) =\n",
        "  \\begin{cases}\n",
        "   \\frac{1}{b - a} & \\text{si } a \\leq x \\leq b \\\\\n",
        "   0 & \\text{en otro caso}\n",
        "  \\end{cases}\n",
        "$\n",
        "\n",
        "Esto significa que la probabilidad de que $(X) $tome cualquier valor específico dentro del intervalo $([a, b])$ es uniforme, o igual.\n",
        "\n",
        "## Función de Distribución Acumulativa (CDF)\n",
        "La función de distribución acumulativa para$(X)$ es:\n",
        "$F(x) =\n",
        "  \\begin{cases}\n",
        "   0 & \\text{si } x < a \\\\\n",
        "   \\frac{x - a}{b - a} & \\text{si } a \\leq x \\leq b \\\\\n",
        "   1 & \\text{si } x > b\n",
        "  \\end{cases}$\n",
        "\n",
        "## Propiedades\n",
        "\n",
        "- **Esperanza (Media):**\n",
        "  $\n",
        "   \\mathbb{E}[X] = \\frac{a + b}{2}\n",
        "   $\n",
        "- **Varianza:**\n",
        "  $\n",
        "   \\text{Var}(X) = \\frac{(b - a)^2}{12}\n",
        "   $\n",
        "- **Desviación Estándar:**\n",
        "  $\n",
        "   \\sigma = \\sqrt{\\text{Var}(X)} = \\frac{b - a}{\\sqrt{12}}\n",
        "   $"
      ],
      "metadata": {
        "id": "-OpazQdi1dXv"
      }
    },
    {
      "cell_type": "markdown",
      "source": [
        "**Exponencial**\n",
        "\n",
        "Sea $X$ una v.a con distribucion exponencial parametro $\\lambda $ tiene una funcion de densidad\n",
        "\n",
        "$$f_{X}(x)= \\lambda e ^{- \\lambda x} I_{(0,\\infty )}(x)$$\n",
        "\n",
        "La funcion generadora de momentos (funcion caracteristica) esta dada por:\n",
        "\n",
        "\\begin{align*}\n",
        "M_{X}(t)\n",
        "&=E(e^{tx})=\\int_{0}^{\\infty }e^{tx}\\lambda e^{-\\lambda x}dx \\\\\n",
        "&=\\lambda \\int_{0}^{\\infty }e^{-(\\lambda -t)x}dx \\\\\n",
        "&=\\frac{\\lambda }{\\lambda -t}\\int_{0}^{\\infty }(\\lambda -t)e^{-(\\lambda -t )x}dx \\\\\n",
        "&=\\frac{\\lambda }{\\lambda -t}\n",
        "\\end{align*}\n",
        "\n",
        "Ahora calculamos la $\\mathbb{E}(X)$:\n",
        "\n",
        "\\begin{align*}\n",
        "\\mathbb{E}(X)\n",
        "&=\\frac{\\partial M_{X}(t)}{\\partial t}|_{t=0} \\\\\n",
        "&=\\frac{\\partial }{\\partial t}\\left ( \\frac{\\lambda }{\\lambda -t} \\right )|_{t=0} \\\\\n",
        "&=\\frac{\\lambda }{(\\lambda -t)^{2}}|_{t=0}=\\frac{1}{\\lambda }\n",
        "\\end{align*}\n",
        "\n",
        "Como $V(X)=\\mathbb{E}(X^{2})-(\\mathbb{E}(X))^{2}$, calculemos $\\mathbb{E}(X^{2})$:\n",
        "\n",
        "\\begin{align*}\n",
        "\\mathbb{E}(X^{2})\n",
        "&=\\frac{\\partial ^{2}M_{x}(t)}{\\partial t^{2}}|_{t=0} \\\\\n",
        "&=\\frac{\\partial }{\\partial t}\\left ( \\frac{\\lambda }{(\\lambda -t)^{2}} \\right )|_{t=0} \\\\\n",
        "&=\\frac{2\\lambda (\\lambda -t)}{(\\lambda -t)^{4}}|_{t=0} \\\\\n",
        "&=\\frac{2}{\\lambda ^{2}}\n",
        "\\end{align*}\n",
        "Como\n",
        "\\begin{align*}\n",
        "V(X)=\n",
        "&\\frac{2}{\\lambda ^{2}}-\\frac{1}{\\lambda ^{2}} \\\\\n",
        "&=\\frac{1}{\\lambda ^{2}}\n",
        "\\end{align*}\n",
        "\n"
      ],
      "metadata": {
        "id": "g1OVufid1feu"
      }
    },
    {
      "cell_type": "markdown",
      "source": [
        "**Normal**\n",
        "\n",
        "Sea $X$ una v.a con distribucion normal, $N(\\mu , \\sigma )$ tiene una funcion de densidad\n",
        "\n",
        "$$f_{X}(x)= \\frac{1}{\\sigma \\sqrt{2\\pi }}e^{-\\frac{1}{2}\\left ( \\frac{x-\\mu }{\\sigma } \\right )^{2}}$$\n",
        "\n",
        "La funcion generadora de momentos (funcion caracteristica) esta dada por:\n",
        "\n",
        "\\begin{align*}\n",
        "\\varphi (u)\n",
        "&=E(e^{iuX})=\\int_{-\\infty}^{\\infty }e^{iux}\\frac{1}{\\sigma \\sqrt{2\\pi }}e^{-\\frac{1}{2}\\left ( \\frac{x-\\mu }{\\sigma } \\right )^{2}} dx \\\\\n",
        "&=\\frac{1}{\\sigma \\sqrt{2\\pi }} \\int_{-\\infty}^{\\infty } e^{iux {-\\frac{1}{2}\\left ( \\frac{x-\\mu }{\\sigma } \\right )^{2}}}dx \\\\\n",
        "&=e^{i\\mu u-\\frac{1}{2}\\sigma ^{2}u^{2}}\n",
        "\\end{align*}\n",
        "\n",
        "Ahora calculamos la $\\mathbb{E}(X)$:\n",
        "\n",
        "\\begin{align*}\n",
        "\\mathbb{E}(X)\n",
        "&=\\varphi´ (u) \\\\\n",
        "&=\\left ( i\\mu -\\sigma ^{2} u \\right ) e^{i\\mu u-\\frac{1}{2}\\sigma ^{2}u^{2}}|_{t=0} \\\\\n",
        "&=\\mu\n",
        "\\end{align*}\n",
        "\n",
        "Como $V(X)=\\mathbb{E}(X^{2})-(\\mathbb{E}(X))^{2}$:\n",
        "\n",
        "\\begin{align*}\n",
        "V(X)=\n",
        "&\\left ( \\frac{1}{i ^{2}}\\varphi´´ (u)-\\left ( \\frac{1}{i}\\varphi´ (u) \\right )^{2} \\right )|_{t=0} \\\\\n",
        "&= \\sigma^{2}\n",
        "\\end{align*}"
      ],
      "metadata": {
        "id": "RZlKnyBz1g4S"
      }
    }
  ]
}