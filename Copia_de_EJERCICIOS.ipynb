{
  "nbformat": 4,
  "nbformat_minor": 0,
  "metadata": {
    "colab": {
      "provenance": [],
      "authorship_tag": "ABX9TyOO25xEb0KEYWd5JnVpnWol",
      "include_colab_link": true
    },
    "kernelspec": {
      "name": "python3",
      "display_name": "Python 3"
    },
    "language_info": {
      "name": "python"
    }
  },
  "cells": [
    {
      "cell_type": "markdown",
      "metadata": {
        "id": "view-in-github",
        "colab_type": "text"
      },
      "source": [
        "<a href=\"https://colab.research.google.com/github/Erika-Dianney-Martinez/README/blob/main/Copia_de_EJERCICIOS.ipynb\" target=\"_parent\"><img src=\"https://colab.research.google.com/assets/colab-badge.svg\" alt=\"Open In Colab\"/></a>"
      ]
    },
    {
      "cell_type": "markdown",
      "source": [
        "### Ejercicios:\n",
        "1.- Documenta tu colab.\n",
        "\n",
        "2.- Calcula la ley de las siguientes variables aleatorias:\n",
        "\n",
        "1.          - La diferencia de las caras sea mayor que $1$.\n",
        "\n",
        "    - La suma de las caras sea par.\n",
        "\n",
        "3.- Verifica, en cada caso, que $$\\sum_{k\\in R_{X}}\\mathbb{P}(X=x)=1.$$\n",
        "\n",
        "4.- Sube tu notebook a tu GitHub.\n"
      ],
      "metadata": {
        "id": "ZQm4GmrlXBw8"
      }
    },
    {
      "cell_type": "markdown",
      "source": [
        "***SOLUCION:***\n",
        "Vamos a definir $T$ como la variable aleatorio que saca la diferencia entre las caras de los dados.\n",
        "\n",
        "$$T:\\Omega \\to R_{T}=\\{-5, -4, -3, -2, -1, 0, 1, 2, 3, 4, 5 \\}$$\n",
        "\n",
        "Veamos a $T$ como eventos. Sea $T_{n}$ el evento la diferencia de las caras es $n$.\n",
        "\n"
      ],
      "metadata": {
        "id": "1h86bpPxfWN5"
      }
    },
    {
      "cell_type": "code",
      "source": [
        "from itertools import product\n",
        "from fractions import Fraction"
      ],
      "metadata": {
        "id": "Iu_AFMlk2J17"
      },
      "execution_count": null,
      "outputs": []
    },
    {
      "cell_type": "code",
      "source": [
        "def P(A, Omega):\n",
        "  P = Fraction(len(A), len(Omega) )\n",
        "  return P"
      ],
      "metadata": {
        "id": "gTkkSYd82NgY"
      },
      "execution_count": null,
      "outputs": []
    },
    {
      "cell_type": "markdown",
      "source": [
        "$$T_{n}=\\{(i,j)\\in \\Omega : i-j =n \\mid n>1\\}$$"
      ],
      "metadata": {
        "id": "6Fk1XeHM2TzL"
      }
    },
    {
      "cell_type": "markdown",
      "source": [
        "Definimos el siguiente diccionario:"
      ],
      "metadata": {
        "id": "CtmKIwwW395D"
      }
    },
    {
      "cell_type": "code",
      "source": [
        "L = [i for i in range(1,7)]\n",
        "\n",
        "Omega = set(product(L, repeat =2 ))\n",
        "Omega"
      ],
      "metadata": {
        "colab": {
          "base_uri": "https://localhost:8080/"
        },
        "id": "CXrwbX8F4AuI",
        "outputId": "26b1527e-bcd3-44c1-92b4-1e9c471a4698"
      },
      "execution_count": null,
      "outputs": [
        {
          "output_type": "execute_result",
          "data": {
            "text/plain": [
              "{(1, 1),\n",
              " (1, 2),\n",
              " (1, 3),\n",
              " (1, 4),\n",
              " (1, 5),\n",
              " (1, 6),\n",
              " (2, 1),\n",
              " (2, 2),\n",
              " (2, 3),\n",
              " (2, 4),\n",
              " (2, 5),\n",
              " (2, 6),\n",
              " (3, 1),\n",
              " (3, 2),\n",
              " (3, 3),\n",
              " (3, 4),\n",
              " (3, 5),\n",
              " (3, 6),\n",
              " (4, 1),\n",
              " (4, 2),\n",
              " (4, 3),\n",
              " (4, 4),\n",
              " (4, 5),\n",
              " (4, 6),\n",
              " (5, 1),\n",
              " (5, 2),\n",
              " (5, 3),\n",
              " (5, 4),\n",
              " (5, 5),\n",
              " (5, 6),\n",
              " (6, 1),\n",
              " (6, 2),\n",
              " (6, 3),\n",
              " (6, 4),\n",
              " (6, 5),\n",
              " (6, 6)}"
            ]
          },
          "metadata": {},
          "execution_count": 29
        }
      ]
    },
    {
      "cell_type": "markdown",
      "source": [
        "Ahora queremos las diferencias:"
      ],
      "metadata": {
        "id": "ou4bc63-42Ro"
      }
    },
    {
      "cell_type": "code",
      "source": [
        "T = {(i,j): i-j for i,j in Omega}\n",
        "\n",
        "T"
      ],
      "metadata": {
        "colab": {
          "base_uri": "https://localhost:8080/"
        },
        "id": "IhunfDhO4-R8",
        "outputId": "17813df4-352e-4ca7-f192-9b6c9dee1bd6"
      },
      "execution_count": null,
      "outputs": [
        {
          "output_type": "execute_result",
          "data": {
            "text/plain": [
              "{(3, 4): -1,\n",
              " (4, 3): 1,\n",
              " (3, 1): 2,\n",
              " (5, 4): 1,\n",
              " (4, 6): -2,\n",
              " (5, 1): 4,\n",
              " (2, 2): 0,\n",
              " (1, 6): -5,\n",
              " (2, 5): -3,\n",
              " (1, 3): -2,\n",
              " (6, 2): 4,\n",
              " (6, 5): 1,\n",
              " (4, 2): 2,\n",
              " (4, 5): -1,\n",
              " (3, 3): 0,\n",
              " (5, 6): -1,\n",
              " (3, 6): -3,\n",
              " (5, 3): 2,\n",
              " (2, 4): -2,\n",
              " (1, 2): -1,\n",
              " (2, 1): 1,\n",
              " (1, 5): -4,\n",
              " (6, 1): 5,\n",
              " (6, 4): 2,\n",
              " (3, 2): 1,\n",
              " (4, 1): 3,\n",
              " (3, 5): -2,\n",
              " (5, 2): 3,\n",
              " (4, 4): 0,\n",
              " (5, 5): 0,\n",
              " (1, 1): 0,\n",
              " (1, 4): -3,\n",
              " (2, 3): -1,\n",
              " (2, 6): -4,\n",
              " (6, 6): 0,\n",
              " (6, 3): 3}"
            ]
          },
          "metadata": {},
          "execution_count": 30
        }
      ]
    },
    {
      "cell_type": "markdown",
      "source": [
        "Lo queremos mas ordenado, por lo tanto lo definimos asi:"
      ],
      "metadata": {
        "id": "KwXxFvTX5MFu"
      }
    },
    {
      "cell_type": "code",
      "source": [
        "from collections import defaultdict\n",
        "\n",
        "dT = defaultdict(set)\n",
        "dT"
      ],
      "metadata": {
        "colab": {
          "base_uri": "https://localhost:8080/"
        },
        "id": "MvuURcRa5Qnb",
        "outputId": "01a07aa4-9e59-4819-925c-07e54a115433"
      },
      "execution_count": null,
      "outputs": [
        {
          "output_type": "execute_result",
          "data": {
            "text/plain": [
              "defaultdict(set, {})"
            ]
          },
          "metadata": {},
          "execution_count": 31
        }
      ]
    },
    {
      "cell_type": "markdown",
      "source": [
        "Ahora llenamos nuestro diccionario:"
      ],
      "metadata": {
        "id": "Zwwmey3c6pfK"
      }
    },
    {
      "cell_type": "code",
      "source": [
        "for l, v in T.items():\n",
        "  dT[v].add(l)"
      ],
      "metadata": {
        "id": "Bb--kISe6v_Q"
      },
      "execution_count": null,
      "outputs": []
    },
    {
      "cell_type": "markdown",
      "source": [
        "Imprimimos el nuevo diccionario mas organizado"
      ],
      "metadata": {
        "id": "Nrp_fUAN7MCJ"
      }
    },
    {
      "cell_type": "code",
      "source": [
        "dT"
      ],
      "metadata": {
        "colab": {
          "base_uri": "https://localhost:8080/"
        },
        "id": "tSen2nGe7LqQ",
        "outputId": "f42729a1-bb6b-4b79-c53b-68d6333c9a59"
      },
      "execution_count": null,
      "outputs": [
        {
          "output_type": "execute_result",
          "data": {
            "text/plain": [
              "defaultdict(set,\n",
              "            {-1: {(1, 2), (2, 3), (3, 4), (4, 5), (5, 6)},\n",
              "             1: {(2, 1), (3, 2), (4, 3), (5, 4), (6, 5)},\n",
              "             2: {(3, 1), (4, 2), (5, 3), (6, 4)},\n",
              "             -2: {(1, 3), (2, 4), (3, 5), (4, 6)},\n",
              "             4: {(5, 1), (6, 2)},\n",
              "             0: {(1, 1), (2, 2), (3, 3), (4, 4), (5, 5), (6, 6)},\n",
              "             -5: {(1, 6)},\n",
              "             -3: {(1, 4), (2, 5), (3, 6)},\n",
              "             -4: {(1, 5), (2, 6)},\n",
              "             5: {(6, 1)},\n",
              "             3: {(4, 1), (5, 2), (6, 3)}})"
            ]
          },
          "metadata": {},
          "execution_count": 33
        }
      ]
    },
    {
      "cell_type": "markdown",
      "source": [
        "Ahora vamos a organizar en un nuevo diccionario mejor"
      ],
      "metadata": {
        "id": "mCIwKOCf7e6P"
      }
    },
    {
      "cell_type": "code",
      "source": [
        "leyT = {k : P(A,Omega) for k , A in dT.items() }\n",
        "leyT"
      ],
      "metadata": {
        "colab": {
          "base_uri": "https://localhost:8080/"
        },
        "id": "ygQEXPt47jvH",
        "outputId": "e6f86ea4-3cb0-42ad-c7d9-c7876866521c"
      },
      "execution_count": null,
      "outputs": [
        {
          "output_type": "execute_result",
          "data": {
            "text/plain": [
              "{-1: Fraction(5, 36),\n",
              " 1: Fraction(5, 36),\n",
              " 2: Fraction(1, 9),\n",
              " -2: Fraction(1, 9),\n",
              " 4: Fraction(1, 18),\n",
              " 0: Fraction(1, 6),\n",
              " -5: Fraction(1, 36),\n",
              " -3: Fraction(1, 12),\n",
              " -4: Fraction(1, 18),\n",
              " 5: Fraction(1, 36),\n",
              " 3: Fraction(1, 12)}"
            ]
          },
          "metadata": {},
          "execution_count": 34
        }
      ]
    },
    {
      "cell_type": "markdown",
      "source": [
        "Ahora agregamos un tranformador para poder observar los elementos que son de nuestro interes."
      ],
      "metadata": {
        "id": "oMrFTOqr9CK-"
      }
    },
    {
      "cell_type": "code",
      "source": [
        "import pandas as pd"
      ],
      "metadata": {
        "id": "GoRk6e1g9Hpi"
      },
      "execution_count": null,
      "outputs": []
    },
    {
      "cell_type": "code",
      "source": [
        "leyT = pd.Series(leyT)\n",
        "r= [o for o in range(2,6)]\n",
        "leyT [r]"
      ],
      "metadata": {
        "colab": {
          "base_uri": "https://localhost:8080/"
        },
        "id": "0n-oUeis9K5s",
        "outputId": "86624375-5b89-4a8b-d421-67f7010ec971"
      },
      "execution_count": null,
      "outputs": [
        {
          "output_type": "execute_result",
          "data": {
            "text/plain": [
              "2     1/9\n",
              "3    1/12\n",
              "4    1/18\n",
              "5    1/36\n",
              "dtype: object"
            ]
          },
          "metadata": {},
          "execution_count": 46
        }
      ]
    },
    {
      "cell_type": "markdown",
      "source": [
        "En este punto vamos a comprobar que $$\\sum_{k\\in R_{X}}\\mathbb{P}(X=x)=1.$$ \\\\\n"
      ],
      "metadata": {
        "id": "OCZfYH54ShJt"
      }
    },
    {
      "cell_type": "code",
      "source": [
        "leyT.sum()"
      ],
      "metadata": {
        "colab": {
          "base_uri": "https://localhost:8080/"
        },
        "id": "YsxxHBaKTlsK",
        "outputId": "e28f9d9d-fe67-4fee-e9f2-7aaee8ef1c7c"
      },
      "execution_count": null,
      "outputs": [
        {
          "output_type": "execute_result",
          "data": {
            "text/plain": [
              "Fraction(1, 1)"
            ]
          },
          "metadata": {},
          "execution_count": 47
        }
      ]
    }
  ]
}