{
  "nbformat": 4,
  "nbformat_minor": 0,
  "metadata": {
    "colab": {
      "provenance": [],
      "include_colab_link": true
    },
    "kernelspec": {
      "name": "python3",
      "display_name": "Python 3"
    },
    "language_info": {
      "name": "python"
    }
  },
  "cells": [
    {
      "cell_type": "markdown",
      "metadata": {
        "id": "view-in-github",
        "colab_type": "text"
      },
      "source": [
        "<a href=\"https://colab.research.google.com/github/Erika-Dianney-Martinez/README/blob/main/Equipo_3.ipynb\" target=\"_parent\"><img src=\"https://colab.research.google.com/assets/colab-badge.svg\" alt=\"Open In Colab\"/></a>"
      ]
    },
    {
      "cell_type": "markdown",
      "source": [
        "# Probabilidad clásica.\n"
      ],
      "metadata": {
        "id": "znQx0ZZSVJqm"
      }
    },
    {
      "cell_type": "markdown",
      "source": [
        "**Integrantes:**\n",
        "\n",
        "\n",
        "1.   Erika Dianney Martinez Ramos\n",
        "2.   Hugo Daniel Matias Rodríguez\n",
        "1.   Enrique Avila Torres\n",
        "2.   Ana Clemente Gonzalez\n",
        "\n",
        "\n",
        "\n"
      ],
      "metadata": {
        "id": "hJXBkBUP38WA"
      }
    },
    {
      "cell_type": "markdown",
      "source": [
        "## Modelo clásico laplaciano"
      ],
      "metadata": {
        "id": "J5I0uIiQV-oM"
      }
    },
    {
      "cell_type": "markdown",
      "source": [
        "### Ejemplo: Lanzamiento de 3 monedas.\n",
        "\n",
        "Se tiene el siguiente experimento aleatorio. Se lanzan, de manera independiente, 3 monedas.\n",
        "\n",
        "El espacio muestral es:\n",
        "$$\\Omega=\\{A, S\\}\\times \\{A, S\\}\\times \\{A,S\\}=\\{ A, S\\}^{3}.$$"
      ],
      "metadata": {
        "id": "Uz2lGaLipsb1"
      }
    },
    {
      "cell_type": "markdown",
      "source": [
        "$$\\text{card}(\\Omega)=2^3=8.$$"
      ],
      "metadata": {
        "id": "s0xi1xYdwPCK"
      }
    },
    {
      "cell_type": "markdown",
      "source": [
        "Tenemos\n",
        "$$\\mathcal{F}=p(\\Omega)$$\n",
        "$$\\text{card}(\\mathcal{F})=2^{8}.$$"
      ],
      "metadata": {
        "id": "zoT5Pw_z0QMh"
      }
    },
    {
      "cell_type": "markdown",
      "source": [
        "$\\color{cyan}{Definición \\ de  \\ probabilidad \\ clásica \\ (modelo \\ laplaciano)}$.\n",
        "\n",
        "Si $E$ es un evento, la función de probabilidad:\n",
        "$$\\mathbb{P}(E)=\\frac{\\text{card}(E)}{\\text{card}(\\Omega)}$$\n"
      ],
      "metadata": {
        "id": "HzXgNRtb2VtW"
      }
    },
    {
      "cell_type": "code",
      "source": [
        "# Hay 256 posibles eventos\n",
        "\n",
        "2**8"
      ],
      "metadata": {
        "colab": {
          "base_uri": "https://localhost:8080/"
        },
        "id": "C7WV8JLn0xbP",
        "outputId": "19a0db20-f410-4114-b3d7-d976a0244936"
      },
      "execution_count": 1,
      "outputs": [
        {
          "output_type": "execute_result",
          "data": {
            "text/plain": [
              "256"
            ]
          },
          "metadata": {},
          "execution_count": 1
        }
      ]
    },
    {
      "cell_type": "code",
      "source": [
        "# Vamos a crear el código para Omega\n",
        "\n",
        "import itertools\n",
        "from itertools import product\n",
        "\n",
        "Omega = set(product({\"A\", \"S\"}, repeat= 3))\n",
        "Omega"
      ],
      "metadata": {
        "colab": {
          "base_uri": "https://localhost:8080/"
        },
        "id": "jBVZF3Y5V_tx",
        "outputId": "0681167f-df2c-43dc-d1c0-649b52bc2f08"
      },
      "execution_count": 2,
      "outputs": [
        {
          "output_type": "execute_result",
          "data": {
            "text/plain": [
              "{('A', 'A', 'A'),\n",
              " ('A', 'A', 'S'),\n",
              " ('A', 'S', 'A'),\n",
              " ('A', 'S', 'S'),\n",
              " ('S', 'A', 'A'),\n",
              " ('S', 'A', 'S'),\n",
              " ('S', 'S', 'A'),\n",
              " ('S', 'S', 'S')}"
            ]
          },
          "metadata": {},
          "execution_count": 2
        }
      ]
    },
    {
      "cell_type": "code",
      "source": [
        "len(Omega)"
      ],
      "metadata": {
        "colab": {
          "base_uri": "https://localhost:8080/"
        },
        "id": "bpdPFGu8zZdY",
        "outputId": "b2adc0cf-d837-4077-c9a9-f86ab856fe4b"
      },
      "execution_count": 3,
      "outputs": [
        {
          "output_type": "execute_result",
          "data": {
            "text/plain": [
              "8"
            ]
          },
          "metadata": {},
          "execution_count": 3
        }
      ]
    },
    {
      "cell_type": "code",
      "source": [
        "T = (\"A\", \"A\", \"A\")\n",
        "T[0]"
      ],
      "metadata": {
        "colab": {
          "base_uri": "https://localhost:8080/",
          "height": 36
        },
        "id": "9mjA3wkD4SfL",
        "outputId": "faf1a69b-fc0a-4d5b-a6f9-18056b196de6"
      },
      "execution_count": 4,
      "outputs": [
        {
          "output_type": "execute_result",
          "data": {
            "text/plain": [
              "'A'"
            ],
            "application/vnd.google.colaboratory.intrinsic+json": {
              "type": "string"
            }
          },
          "metadata": {},
          "execution_count": 4
        }
      ]
    },
    {
      "cell_type": "markdown",
      "source": [
        "Consideremos los siguientes eventos:\n",
        "\n",
        "\n",
        "1.   A: todas las caras sean águilas.\n",
        "2.   S: todas las caras sean soles.\n",
        "3.   E: por lo menos una cara sea sol.\n",
        "\n"
      ],
      "metadata": {
        "id": "fBG9PCLg1nbY"
      }
    },
    {
      "cell_type": "markdown",
      "source": [
        "Vamos a contestar la primer pregunta.\n",
        "\n",
        "Llamemos como $A_{i}$ al evento en donde cae águila en el $i$-ésimo resultado.\n",
        "\n",
        "Así,\n",
        "$$A=A_{1}\\cap A_{2}\\cap A_{3}.$$"
      ],
      "metadata": {
        "id": "wDD4fndv3Q7R"
      }
    },
    {
      "cell_type": "code",
      "source": [
        "# Creamos a nuestro primer evento\n",
        "\n",
        "A_1 = {om for om in Omega if om[0]==\"A\"}\n",
        "A_1"
      ],
      "metadata": {
        "colab": {
          "base_uri": "https://localhost:8080/"
        },
        "id": "EIvKamBkz6Np",
        "outputId": "ce2f3146-ec62-4403-c077-b8f40373797e"
      },
      "execution_count": 5,
      "outputs": [
        {
          "output_type": "execute_result",
          "data": {
            "text/plain": [
              "{('A', 'A', 'A'), ('A', 'A', 'S'), ('A', 'S', 'A'), ('A', 'S', 'S')}"
            ]
          },
          "metadata": {},
          "execution_count": 5
        }
      ]
    },
    {
      "cell_type": "code",
      "source": [
        "# Creamos a nuestro segundo evento\n",
        "\n",
        "A_2 = {om for om in Omega if om[1]==\"A\"}\n",
        "A_2"
      ],
      "metadata": {
        "colab": {
          "base_uri": "https://localhost:8080/"
        },
        "id": "fN0FDYAk5TdL",
        "outputId": "17e902d4-712b-4656-9c24-08c21783d21d"
      },
      "execution_count": 6,
      "outputs": [
        {
          "output_type": "execute_result",
          "data": {
            "text/plain": [
              "{('A', 'A', 'A'), ('A', 'A', 'S'), ('S', 'A', 'A'), ('S', 'A', 'S')}"
            ]
          },
          "metadata": {},
          "execution_count": 6
        }
      ]
    },
    {
      "cell_type": "code",
      "source": [
        "# Creamos a nuestro tercer evento\n",
        "\n",
        "A_3 = {om for om in Omega if om[2]==\"A\"}\n",
        "A_3"
      ],
      "metadata": {
        "colab": {
          "base_uri": "https://localhost:8080/"
        },
        "id": "WqWjEFSW5fv0",
        "outputId": "b6210628-e1fb-41a6-90d6-5eaaf982b213"
      },
      "execution_count": 7,
      "outputs": [
        {
          "output_type": "execute_result",
          "data": {
            "text/plain": [
              "{('A', 'A', 'A'), ('A', 'S', 'A'), ('S', 'A', 'A'), ('S', 'S', 'A')}"
            ]
          },
          "metadata": {},
          "execution_count": 7
        }
      ]
    },
    {
      "cell_type": "markdown",
      "source": [
        "Usamos la función `intersection`."
      ],
      "metadata": {
        "id": "6iQJhCEc5vIj"
      }
    },
    {
      "cell_type": "code",
      "source": [
        "A = A_1.intersection(A_2.intersection(A_3))\n",
        "A"
      ],
      "metadata": {
        "colab": {
          "base_uri": "https://localhost:8080/"
        },
        "id": "1u21fgtR5nLx",
        "outputId": "f337419a-fae7-44e3-fb8c-556f992968d2"
      },
      "execution_count": 8,
      "outputs": [
        {
          "output_type": "execute_result",
          "data": {
            "text/plain": [
              "{('A', 'A', 'A')}"
            ]
          },
          "metadata": {},
          "execution_count": 8
        }
      ]
    },
    {
      "cell_type": "code",
      "source": [
        "P_A = len(A)/len(Omega)\n",
        "P_A"
      ],
      "metadata": {
        "colab": {
          "base_uri": "https://localhost:8080/"
        },
        "id": "JdziT2JK6De8",
        "outputId": "42c8a136-774e-4ad2-beab-d832fb203cc7"
      },
      "execution_count": 9,
      "outputs": [
        {
          "output_type": "execute_result",
          "data": {
            "text/plain": [
              "0.125"
            ]
          },
          "metadata": {},
          "execution_count": 9
        }
      ]
    },
    {
      "cell_type": "code",
      "source": [
        "A = {om for om in Omega if om.count(\"A\")==3}\n",
        "A"
      ],
      "metadata": {
        "colab": {
          "base_uri": "https://localhost:8080/"
        },
        "id": "yuHawmvD6bxP",
        "outputId": "8d512914-5eac-424e-f897-74abc0370df3"
      },
      "execution_count": 10,
      "outputs": [
        {
          "output_type": "execute_result",
          "data": {
            "text/plain": [
              "{('A', 'A', 'A')}"
            ]
          },
          "metadata": {},
          "execution_count": 10
        }
      ]
    },
    {
      "cell_type": "markdown",
      "source": [
        "##### Creación de funciones (globales)."
      ],
      "metadata": {
        "id": "KH9toVHY81vx"
      }
    },
    {
      "cell_type": "markdown",
      "source": [
        "Vamos a crear una función que calcule la probabilidad de un evento dentro de un espacio muestral en el contexto clásico."
      ],
      "metadata": {
        "id": "URknUKua9UYn"
      }
    },
    {
      "cell_type": "code",
      "source": [
        "from fractions import Fraction\n",
        "\n",
        "def P(E, Omega):\n",
        "  p = Fraction(len(E),len(Omega))\n",
        "  return p"
      ],
      "metadata": {
        "id": "YgrQ1WMa8S7D"
      },
      "execution_count": 11,
      "outputs": []
    },
    {
      "cell_type": "code",
      "source": [
        "P(A, Omega)"
      ],
      "metadata": {
        "colab": {
          "base_uri": "https://localhost:8080/"
        },
        "id": "Hu65Q1x9--Qj",
        "outputId": "7cdaf272-7b60-4aff-a0f1-3cf07dbd57ef"
      },
      "execution_count": 12,
      "outputs": [
        {
          "output_type": "execute_result",
          "data": {
            "text/plain": [
              "Fraction(1, 8)"
            ]
          },
          "metadata": {},
          "execution_count": 12
        }
      ]
    },
    {
      "cell_type": "code",
      "source": [
        "S = {om for om in Omega if om.count(\"S\")==3}\n",
        "S"
      ],
      "metadata": {
        "colab": {
          "base_uri": "https://localhost:8080/"
        },
        "id": "CvuP6vQI_Cm2",
        "outputId": "df933a9b-e1a3-41b3-af1f-8390a2e40a69"
      },
      "execution_count": 13,
      "outputs": [
        {
          "output_type": "execute_result",
          "data": {
            "text/plain": [
              "{('S', 'S', 'S')}"
            ]
          },
          "metadata": {},
          "execution_count": 13
        }
      ]
    },
    {
      "cell_type": "code",
      "source": [
        "P(S,Omega)"
      ],
      "metadata": {
        "colab": {
          "base_uri": "https://localhost:8080/"
        },
        "id": "1ZSRlMZw_d-j",
        "outputId": "b6a13da5-b4ef-4305-debe-5388ef459b67"
      },
      "execution_count": 14,
      "outputs": [
        {
          "output_type": "execute_result",
          "data": {
            "text/plain": [
              "Fraction(1, 8)"
            ]
          },
          "metadata": {},
          "execution_count": 14
        }
      ]
    },
    {
      "cell_type": "markdown",
      "source": [
        "# **EJERCICIOS EN EQUIPO**"
      ],
      "metadata": {
        "id": "V8YXxK3r2mn6"
      }
    },
    {
      "cell_type": "markdown",
      "source": [
        "Que al menos un elemento sea **S**"
      ],
      "metadata": {
        "id": "_0eo2zRdOgVx"
      }
    },
    {
      "cell_type": "code",
      "source": [
        "T = {om for om in Omega if om.count(\"S\") ==1}\n",
        "T"
      ],
      "metadata": {
        "id": "UYyONNOR_gTI",
        "colab": {
          "base_uri": "https://localhost:8080/"
        },
        "outputId": "479dfc98-18ad-4086-bb89-91f17710d3dd"
      },
      "execution_count": 15,
      "outputs": [
        {
          "output_type": "execute_result",
          "data": {
            "text/plain": [
              "{('A', 'A', 'S'), ('A', 'S', 'A'), ('S', 'A', 'A')}"
            ]
          },
          "metadata": {},
          "execution_count": 15
        }
      ]
    },
    {
      "cell_type": "code",
      "source": [
        "P(T,Omega)"
      ],
      "metadata": {
        "colab": {
          "base_uri": "https://localhost:8080/"
        },
        "id": "nPNrqr6iLQbE",
        "outputId": "c07e1ecc-7b27-47b2-afc2-a9aa49781c00"
      },
      "execution_count": 16,
      "outputs": [
        {
          "output_type": "execute_result",
          "data": {
            "text/plain": [
              "Fraction(3, 8)"
            ]
          },
          "metadata": {},
          "execution_count": 16
        }
      ]
    },
    {
      "cell_type": "markdown",
      "source": [
        "Que al menos dos elementos sean **A** y **S**"
      ],
      "metadata": {
        "id": "3BIsvkQOOv-b"
      }
    },
    {
      "cell_type": "code",
      "source": [
        "C = {om for om in Omega if om.count(\"A\") != 3 and om.count(\"S\") != 3}\n",
        "C"
      ],
      "metadata": {
        "colab": {
          "base_uri": "https://localhost:8080/"
        },
        "id": "wFu58B3bHP0f",
        "outputId": "03a95c7e-c0a1-49ab-f0aa-e2ce6ffcd016"
      },
      "execution_count": 17,
      "outputs": [
        {
          "output_type": "execute_result",
          "data": {
            "text/plain": [
              "{('A', 'A', 'S'),\n",
              " ('A', 'S', 'A'),\n",
              " ('A', 'S', 'S'),\n",
              " ('S', 'A', 'A'),\n",
              " ('S', 'A', 'S'),\n",
              " ('S', 'S', 'A')}"
            ]
          },
          "metadata": {},
          "execution_count": 17
        }
      ]
    },
    {
      "cell_type": "code",
      "source": [
        "P(C,Omega)"
      ],
      "metadata": {
        "colab": {
          "base_uri": "https://localhost:8080/"
        },
        "id": "P1QC7P7fLsYm",
        "outputId": "392ff293-ebd1-4d62-f3d2-08953253cd01"
      },
      "execution_count": 18,
      "outputs": [
        {
          "output_type": "execute_result",
          "data": {
            "text/plain": [
              "Fraction(3, 4)"
            ]
          },
          "metadata": {},
          "execution_count": 18
        }
      ]
    }
  ]
}