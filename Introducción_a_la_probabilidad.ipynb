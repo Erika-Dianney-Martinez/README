{
  "nbformat": 4,
  "nbformat_minor": 0,
  "metadata": {
    "colab": {
      "provenance": [],
      "include_colab_link": true
    },
    "kernelspec": {
      "name": "python3",
      "display_name": "Python 3"
    },
    "language_info": {
      "name": "python"
    }
  },
  "cells": [
    {
      "cell_type": "markdown",
      "metadata": {
        "id": "view-in-github",
        "colab_type": "text"
      },
      "source": [
        "<a href=\"https://colab.research.google.com/github/Erika-Dianney-Martinez/README/blob/main/Introducci%C3%B3n_a_la_probabilidad.ipynb\" target=\"_parent\"><img src=\"https://colab.research.google.com/assets/colab-badge.svg\" alt=\"Open In Colab\"/></a>"
      ]
    },
    {
      "cell_type": "markdown",
      "source": [
        "# Probabilidad clásica.\n"
      ],
      "metadata": {
        "id": "znQx0ZZSVJqm"
      }
    },
    {
      "cell_type": "markdown",
      "source": [
        "## Algunos conceptos de Python.\n",
        "\n",
        "\n",
        "*   Es un lenguaje orientado a objetos.\n",
        "*   Objetos: int, float, str, listas (list), vectores (arrays), conjuntos (set), diccionarios, DataFrames, etcétera.  \n",
        "\n",
        "\n",
        "\n"
      ],
      "metadata": {
        "id": "54SCtpePWDh9"
      }
    },
    {
      "cell_type": "code",
      "execution_count": null,
      "metadata": {
        "colab": {
          "base_uri": "https://localhost:8080/"
        },
        "id": "WRPxx_wjRHro",
        "outputId": "b6f5c013-f83d-4d7c-fd6e-e8358e838063"
      },
      "outputs": [
        {
          "output_type": "stream",
          "name": "stdout",
          "text": [
            "9\n",
            "0.8\n",
            "20\n",
            "1024\n",
            "0\n"
          ]
        }
      ],
      "source": [
        "# celda de código\n",
        "\n",
        "print(4+5)   # sumar\n",
        "print(4/5)   # división\n",
        "print(4*5)   # multiplicación\n",
        "print(4**5)  # potenciar\n",
        "print(4//5)  # división al piso"
      ]
    },
    {
      "cell_type": "markdown",
      "source": [
        "División al piso: Si $x\\in \\mathbb{R}$, la función piso:\n",
        "$$\\lfloor x \\rfloor=\\max\\{m\\in \\mathbb{Z} \\mid m\\leq x \\}$$"
      ],
      "metadata": {
        "id": "laR_k9kFk0Q6"
      }
    },
    {
      "cell_type": "code",
      "source": [
        "9//4"
      ],
      "metadata": {
        "colab": {
          "base_uri": "https://localhost:8080/"
        },
        "id": "DENkiGXvVcnG",
        "outputId": "25742560-7dbb-4ba9-fd8a-e3eac7ace522"
      },
      "execution_count": null,
      "outputs": [
        {
          "output_type": "execute_result",
          "data": {
            "text/plain": [
              "2"
            ]
          },
          "metadata": {},
          "execution_count": 3
        }
      ]
    },
    {
      "cell_type": "markdown",
      "source": [
        "Operación modular: Sean $a$ y $b$ números reales.\n",
        "\n",
        "El residuo de dividir a entre b se llama operación modular. En Python, se escribe a%b"
      ],
      "metadata": {
        "id": "WSma0Z4hmbTr"
      }
    },
    {
      "cell_type": "code",
      "source": [
        "5%2"
      ],
      "metadata": {
        "colab": {
          "base_uri": "https://localhost:8080/"
        },
        "id": "zi1gw_kPmvv8",
        "outputId": "50181040-9ce3-4e9f-9e83-02e88844389f"
      },
      "execution_count": null,
      "outputs": [
        {
          "output_type": "execute_result",
          "data": {
            "text/plain": [
              "1"
            ]
          },
          "metadata": {},
          "execution_count": 4
        }
      ]
    },
    {
      "cell_type": "markdown",
      "source": [
        "### Listas\n",
        "\n",
        "Una lista es una manera de organizar objetos.\n",
        "\n"
      ],
      "metadata": {
        "id": "fyqU3ZspnbSK"
      }
    },
    {
      "cell_type": "code",
      "source": [
        "# variables\n",
        "lista_1 = [1, 3.2, \"Hola\", False, {\"A\", \"S\"}]\n",
        "lista_1"
      ],
      "metadata": {
        "colab": {
          "base_uri": "https://localhost:8080/"
        },
        "id": "Q7VUlwRDoHID",
        "outputId": "6e196319-cbc0-4f71-d15c-ede845799b6b"
      },
      "execution_count": null,
      "outputs": [
        {
          "output_type": "execute_result",
          "data": {
            "text/plain": [
              "[1, 3.2, 'Hola', False, {'A', 'S'}]"
            ]
          },
          "metadata": {},
          "execution_count": 5
        }
      ]
    },
    {
      "cell_type": "code",
      "source": [
        "# La función type nos dice qué tipo de objeto se tiene\n",
        "type(lista_1)"
      ],
      "metadata": {
        "colab": {
          "base_uri": "https://localhost:8080/"
        },
        "id": "FV62zMEepFlS",
        "outputId": "fab852d7-b116-4c8d-960e-b0bdf32bfb12"
      },
      "execution_count": null,
      "outputs": [
        {
          "output_type": "execute_result",
          "data": {
            "text/plain": [
              "list"
            ]
          },
          "metadata": {},
          "execution_count": 6
        }
      ]
    },
    {
      "cell_type": "code",
      "source": [
        "type(5+8)"
      ],
      "metadata": {
        "colab": {
          "base_uri": "https://localhost:8080/"
        },
        "id": "i2HNci8Cpceb",
        "outputId": "613b4ce7-4834-42e6-e1d6-462f74c37b77"
      },
      "execution_count": null,
      "outputs": [
        {
          "output_type": "execute_result",
          "data": {
            "text/plain": [
              "int"
            ]
          },
          "metadata": {},
          "execution_count": 7
        }
      ]
    },
    {
      "cell_type": "markdown",
      "source": [
        "#### Ingresos a elementos.\n",
        "\n",
        "Si tenemos una lista\n",
        "$$L = [e_{1}, e_{2}, \\dots, e_{n}]$$\n",
        "entonces, si queremos ingresar al $e_{i}$ elemento:\n",
        "$$L[i-1].$$"
      ],
      "metadata": {
        "id": "mU8Q4BACq64Y"
      }
    },
    {
      "cell_type": "code",
      "source": [
        "type(lista_1[4])"
      ],
      "metadata": {
        "colab": {
          "base_uri": "https://localhost:8080/"
        },
        "id": "H_NZJT5Jrwab",
        "outputId": "d13e58eb-f81e-42cc-fad0-5683287ed86d"
      },
      "execution_count": null,
      "outputs": [
        {
          "output_type": "execute_result",
          "data": {
            "text/plain": [
              "set"
            ]
          },
          "metadata": {},
          "execution_count": 8
        }
      ]
    },
    {
      "cell_type": "code",
      "source": [
        "lista_1[5]"
      ],
      "metadata": {
        "colab": {
          "base_uri": "https://localhost:8080/",
          "height": 141
        },
        "id": "CLdbjxb0sfhm",
        "outputId": "4fb38b1d-37bd-4ac8-f1d2-373d85a8d0f6"
      },
      "execution_count": null,
      "outputs": [
        {
          "output_type": "error",
          "ename": "IndexError",
          "evalue": "list index out of range",
          "traceback": [
            "\u001b[0;31m---------------------------------------------------------------------------\u001b[0m",
            "\u001b[0;31mIndexError\u001b[0m                                Traceback (most recent call last)",
            "\u001b[0;32m<ipython-input-10-f2e8ba98b710>\u001b[0m in \u001b[0;36m<cell line: 1>\u001b[0;34m()\u001b[0m\n\u001b[0;32m----> 1\u001b[0;31m \u001b[0mlista_1\u001b[0m\u001b[0;34m[\u001b[0m\u001b[0;36m5\u001b[0m\u001b[0;34m]\u001b[0m\u001b[0;34m\u001b[0m\u001b[0;34m\u001b[0m\u001b[0m\n\u001b[0m",
            "\u001b[0;31mIndexError\u001b[0m: list index out of range"
          ]
        }
      ]
    },
    {
      "cell_type": "markdown",
      "source": [
        "#### Generador de índices (etiquetas de Python).\n",
        "\n",
        "Este generador de índices, se llama `range(n)`"
      ],
      "metadata": {
        "id": "TrDYVqWus3gL"
      }
    },
    {
      "cell_type": "code",
      "source": [
        "range(10)"
      ],
      "metadata": {
        "colab": {
          "base_uri": "https://localhost:8080/"
        },
        "id": "FmnUYp5Hs2GN",
        "outputId": "5208428c-0110-4dc1-fe7c-af1f2166a7ee"
      },
      "execution_count": null,
      "outputs": [
        {
          "output_type": "execute_result",
          "data": {
            "text/plain": [
              "range(0, 10)"
            ]
          },
          "metadata": {},
          "execution_count": 11
        }
      ]
    },
    {
      "cell_type": "code",
      "source": [
        "for i in range(10):\n",
        "  print(i)"
      ],
      "metadata": {
        "colab": {
          "base_uri": "https://localhost:8080/"
        },
        "id": "9-cnBJtguLo2",
        "outputId": "36165f4a-2210-4016-f019-86ea3abf0c55"
      },
      "execution_count": null,
      "outputs": [
        {
          "output_type": "stream",
          "name": "stdout",
          "text": [
            "0\n",
            "1\n",
            "2\n",
            "3\n",
            "4\n",
            "5\n",
            "6\n",
            "7\n",
            "8\n",
            "9\n"
          ]
        }
      ]
    },
    {
      "cell_type": "code",
      "source": [
        "lista_2 = [i for i in range(1, 6)]\n",
        "lista_2"
      ],
      "metadata": {
        "colab": {
          "base_uri": "https://localhost:8080/"
        },
        "id": "5OmXQnkvuakn",
        "outputId": "19dc8d8e-eff8-4650-c188-3aafb745d39e"
      },
      "execution_count": null,
      "outputs": [
        {
          "output_type": "execute_result",
          "data": {
            "text/plain": [
              "[1, 2, 3, 4, 5]"
            ]
          },
          "metadata": {},
          "execution_count": 13
        }
      ]
    },
    {
      "cell_type": "code",
      "source": [
        "# Agregar elementos a una lista append\n",
        "\n",
        "L = []\n",
        "\n",
        "for i in range(2,6):\n",
        "  L.append(i)        # append es para listas"
      ],
      "metadata": {
        "id": "YI4xQ2DuvPdt"
      },
      "execution_count": null,
      "outputs": []
    },
    {
      "cell_type": "code",
      "source": [
        "L"
      ],
      "metadata": {
        "colab": {
          "base_uri": "https://localhost:8080/"
        },
        "id": "Zu_DSWVCvheq",
        "outputId": "0bf8314b-5071-4697-b4a7-86e33df8e512"
      },
      "execution_count": null,
      "outputs": [
        {
          "output_type": "execute_result",
          "data": {
            "text/plain": [
              "[2, 3, 4, 5]"
            ]
          },
          "metadata": {},
          "execution_count": 15
        }
      ]
    },
    {
      "cell_type": "markdown",
      "source": [
        "## Modelo clásico laplaciano"
      ],
      "metadata": {
        "id": "J5I0uIiQV-oM"
      }
    },
    {
      "cell_type": "markdown",
      "source": [
        "### Ejemplo: Lanzamiento de 3 monedas.\n",
        "\n",
        "Se tiene el siguiente experimento aleatorio. Se lanzan, de manera independiente, 3 monedas.\n",
        "\n",
        "El espacio muestral es:\n",
        "$$\\Omega=\\{A, S\\}\\times \\{A, S\\}\\times \\{A,S\\}=\\{ A, S\\}^{3}.$$"
      ],
      "metadata": {
        "id": "Uz2lGaLipsb1"
      }
    },
    {
      "cell_type": "markdown",
      "source": [
        "$$\\text{card}(\\Omega)=2^3=8.$$"
      ],
      "metadata": {
        "id": "s0xi1xYdwPCK"
      }
    },
    {
      "cell_type": "markdown",
      "source": [
        "Tenemos\n",
        "$$\\mathcal{F}=p(\\Omega)$$\n",
        "$$\\text{card}(\\mathcal{F})=2^{8}.$$"
      ],
      "metadata": {
        "id": "zoT5Pw_z0QMh"
      }
    },
    {
      "cell_type": "markdown",
      "source": [
        "$\\color{cyan}{Definición \\ de  \\ probabilidad \\ clásica \\ (modelo \\ laplaciano)}$.\n",
        "\n",
        "Si $E$ es un evento, la función de probabilidad:\n",
        "$$\\mathbb{P}(E)=\\frac{\\text{card}(E)}{\\text{card}(\\Omega)}$$\n"
      ],
      "metadata": {
        "id": "HzXgNRtb2VtW"
      }
    },
    {
      "cell_type": "code",
      "source": [
        "# Hay 256 posibles eventos\n",
        "\n",
        "2**8"
      ],
      "metadata": {
        "colab": {
          "base_uri": "https://localhost:8080/"
        },
        "id": "C7WV8JLn0xbP",
        "outputId": "ea119859-bc0d-41a6-db72-9bb3412d51b2"
      },
      "execution_count": null,
      "outputs": [
        {
          "output_type": "execute_result",
          "data": {
            "text/plain": [
              "256"
            ]
          },
          "metadata": {},
          "execution_count": 16
        }
      ]
    },
    {
      "cell_type": "code",
      "source": [
        "# Vamos a crear el código para Omega\n",
        "\n",
        "import itertools\n",
        "from itertools import product\n",
        "\n",
        "Omega = set(product({\"A\", \"S\"}, repeat= 3))\n",
        "Omega"
      ],
      "metadata": {
        "colab": {
          "base_uri": "https://localhost:8080/"
        },
        "id": "jBVZF3Y5V_tx",
        "outputId": "a9611b65-c9fc-48c6-d87d-0b9be0aac056"
      },
      "execution_count": null,
      "outputs": [
        {
          "output_type": "execute_result",
          "data": {
            "text/plain": [
              "{('A', 'A', 'A'),\n",
              " ('A', 'A', 'S'),\n",
              " ('A', 'S', 'A'),\n",
              " ('A', 'S', 'S'),\n",
              " ('S', 'A', 'A'),\n",
              " ('S', 'A', 'S'),\n",
              " ('S', 'S', 'A'),\n",
              " ('S', 'S', 'S')}"
            ]
          },
          "metadata": {},
          "execution_count": 17
        }
      ]
    },
    {
      "cell_type": "code",
      "source": [
        "len(Omega)"
      ],
      "metadata": {
        "colab": {
          "base_uri": "https://localhost:8080/"
        },
        "id": "bpdPFGu8zZdY",
        "outputId": "767d6b1b-3cd9-43bd-cfb5-62af268a2ce0"
      },
      "execution_count": null,
      "outputs": [
        {
          "output_type": "execute_result",
          "data": {
            "text/plain": [
              "8"
            ]
          },
          "metadata": {},
          "execution_count": 18
        }
      ]
    },
    {
      "cell_type": "code",
      "source": [
        "T = (\"A\", \"A\", \"A\")\n",
        "T[0]"
      ],
      "metadata": {
        "colab": {
          "base_uri": "https://localhost:8080/",
          "height": 36
        },
        "id": "9mjA3wkD4SfL",
        "outputId": "85a81f7c-6141-4621-d425-29500a66ffdc"
      },
      "execution_count": null,
      "outputs": [
        {
          "output_type": "execute_result",
          "data": {
            "text/plain": [
              "'A'"
            ],
            "application/vnd.google.colaboratory.intrinsic+json": {
              "type": "string"
            }
          },
          "metadata": {},
          "execution_count": 19
        }
      ]
    },
    {
      "cell_type": "markdown",
      "source": [
        "Consideremos los siguientes eventos:\n",
        "\n",
        "\n",
        "1.   A: todas las caras sean águilas.\n",
        "2.   S: todas las caras sean soles.\n",
        "3.   E: por lo menos una cara sea sol.\n",
        "\n"
      ],
      "metadata": {
        "id": "fBG9PCLg1nbY"
      }
    },
    {
      "cell_type": "markdown",
      "source": [
        "Vamos a contestar la primer pregunta.\n",
        "\n",
        "Llamemos como $A_{i}$ al evento en donde cae águila en el $i$-ésimo resultado.\n",
        "\n",
        "Así,\n",
        "$$A=A_{1}\\cap A_{2}\\cap A_{3}.$$"
      ],
      "metadata": {
        "id": "wDD4fndv3Q7R"
      }
    },
    {
      "cell_type": "code",
      "source": [
        "# Creamos a nuestro primer evento\n",
        "\n",
        "A_1 = {om for om in Omega if om[0]==\"A\"}\n",
        "A_1"
      ],
      "metadata": {
        "colab": {
          "base_uri": "https://localhost:8080/"
        },
        "id": "EIvKamBkz6Np",
        "outputId": "9caa7508-4ac5-44aa-da06-647460f53111"
      },
      "execution_count": null,
      "outputs": [
        {
          "output_type": "execute_result",
          "data": {
            "text/plain": [
              "{('A', 'A', 'A'), ('A', 'A', 'S'), ('A', 'S', 'A'), ('A', 'S', 'S')}"
            ]
          },
          "metadata": {},
          "execution_count": 20
        }
      ]
    },
    {
      "cell_type": "code",
      "source": [
        "# Creamos a nuestro segundo evento\n",
        "\n",
        "A_2 = {om for om in Omega if om[1]==\"A\"}\n",
        "A_2"
      ],
      "metadata": {
        "colab": {
          "base_uri": "https://localhost:8080/"
        },
        "id": "fN0FDYAk5TdL",
        "outputId": "194c7ed4-0033-44cf-eba3-e96c1d9debf7"
      },
      "execution_count": null,
      "outputs": [
        {
          "output_type": "execute_result",
          "data": {
            "text/plain": [
              "{('A', 'A', 'A'), ('A', 'A', 'S'), ('S', 'A', 'A'), ('S', 'A', 'S')}"
            ]
          },
          "metadata": {},
          "execution_count": 21
        }
      ]
    },
    {
      "cell_type": "code",
      "source": [
        "# Creamos a nuestro tercer evento\n",
        "\n",
        "A_3 = {om for om in Omega if om[2]==\"A\"}\n",
        "A_3"
      ],
      "metadata": {
        "colab": {
          "base_uri": "https://localhost:8080/"
        },
        "id": "WqWjEFSW5fv0",
        "outputId": "b87b175c-afae-489b-cd18-54d671a9021c"
      },
      "execution_count": null,
      "outputs": [
        {
          "output_type": "execute_result",
          "data": {
            "text/plain": [
              "{('A', 'A', 'A'), ('A', 'S', 'A'), ('S', 'A', 'A'), ('S', 'S', 'A')}"
            ]
          },
          "metadata": {},
          "execution_count": 22
        }
      ]
    },
    {
      "cell_type": "markdown",
      "source": [
        "Usamos la función `intersection`."
      ],
      "metadata": {
        "id": "6iQJhCEc5vIj"
      }
    },
    {
      "cell_type": "code",
      "source": [
        "A = A_1.intersection(A_2.intersection(A_3))\n",
        "A"
      ],
      "metadata": {
        "colab": {
          "base_uri": "https://localhost:8080/"
        },
        "id": "1u21fgtR5nLx",
        "outputId": "b8645b7f-0e8a-4c4b-c4d1-37fbc402e572"
      },
      "execution_count": null,
      "outputs": [
        {
          "output_type": "execute_result",
          "data": {
            "text/plain": [
              "{('A', 'A', 'A')}"
            ]
          },
          "metadata": {},
          "execution_count": 23
        }
      ]
    },
    {
      "cell_type": "code",
      "source": [
        "P_A = len(A)/len(Omega)\n",
        "P_A"
      ],
      "metadata": {
        "colab": {
          "base_uri": "https://localhost:8080/"
        },
        "id": "JdziT2JK6De8",
        "outputId": "8b5dc21e-78cd-4786-ebfb-1387f49428d3"
      },
      "execution_count": null,
      "outputs": [
        {
          "output_type": "execute_result",
          "data": {
            "text/plain": [
              "0.125"
            ]
          },
          "metadata": {},
          "execution_count": 24
        }
      ]
    },
    {
      "cell_type": "code",
      "source": [
        "A = {om for om in Omega if om.count(\"A\")==3}\n",
        "A"
      ],
      "metadata": {
        "colab": {
          "base_uri": "https://localhost:8080/"
        },
        "id": "yuHawmvD6bxP",
        "outputId": "be44b178-e3d0-4428-adde-34807c3d62b3"
      },
      "execution_count": null,
      "outputs": [
        {
          "output_type": "execute_result",
          "data": {
            "text/plain": [
              "{('A', 'A', 'A')}"
            ]
          },
          "metadata": {},
          "execution_count": 25
        }
      ]
    },
    {
      "cell_type": "markdown",
      "source": [
        "##### Creación de funciones (globales)."
      ],
      "metadata": {
        "id": "KH9toVHY81vx"
      }
    },
    {
      "cell_type": "markdown",
      "source": [
        "Vamos a crear una función que calcule la probabilidad de un evento dentro de un espacio muestral en el contexto clásico."
      ],
      "metadata": {
        "id": "URknUKua9UYn"
      }
    },
    {
      "cell_type": "code",
      "source": [
        "from fractions import Fraction\n",
        "\n",
        "def P(E, Omega):\n",
        "  p = Fraction(len(E),len(Omega))\n",
        "  return p"
      ],
      "metadata": {
        "id": "YgrQ1WMa8S7D"
      },
      "execution_count": null,
      "outputs": []
    },
    {
      "cell_type": "code",
      "source": [
        "P(A, Omega)"
      ],
      "metadata": {
        "colab": {
          "base_uri": "https://localhost:8080/"
        },
        "id": "Hu65Q1x9--Qj",
        "outputId": "e53b04ae-b664-45f0-faca-97cd4fd3ff6e"
      },
      "execution_count": null,
      "outputs": [
        {
          "output_type": "execute_result",
          "data": {
            "text/plain": [
              "Fraction(1, 8)"
            ]
          },
          "metadata": {},
          "execution_count": 27
        }
      ]
    },
    {
      "cell_type": "code",
      "source": [
        "S = {om for om in Omega if om.count(\"S\")==3}\n",
        "S"
      ],
      "metadata": {
        "colab": {
          "base_uri": "https://localhost:8080/"
        },
        "id": "CvuP6vQI_Cm2",
        "outputId": "ab3097c9-4a9e-4973-db9d-296d0a3117e6"
      },
      "execution_count": null,
      "outputs": [
        {
          "output_type": "execute_result",
          "data": {
            "text/plain": [
              "{('S', 'S', 'S')}"
            ]
          },
          "metadata": {},
          "execution_count": 28
        }
      ]
    },
    {
      "cell_type": "code",
      "source": [
        "P(S,Omega)"
      ],
      "metadata": {
        "colab": {
          "base_uri": "https://localhost:8080/"
        },
        "id": "1ZSRlMZw_d-j",
        "outputId": "d55c0aed-453f-4582-9dff-52d9c3aa6f8a"
      },
      "execution_count": null,
      "outputs": [
        {
          "output_type": "execute_result",
          "data": {
            "text/plain": [
              "Fraction(1, 8)"
            ]
          },
          "metadata": {},
          "execution_count": 29
        }
      ]
    },
    {
      "cell_type": "code",
      "source": [
        "# Que al menos un elemento sea S\n",
        "T = {om for om in Omega if om.count(\"S\") ==1}\n",
        "T"
      ],
      "metadata": {
        "id": "UYyONNOR_gTI",
        "colab": {
          "base_uri": "https://localhost:8080/"
        },
        "outputId": "abed2c17-0725-4639-8471-5d4095656210"
      },
      "execution_count": null,
      "outputs": [
        {
          "output_type": "execute_result",
          "data": {
            "text/plain": [
              "{('A', 'A', 'S'), ('A', 'S', 'A'), ('S', 'A', 'A')}"
            ]
          },
          "metadata": {},
          "execution_count": 37
        }
      ]
    },
    {
      "cell_type": "code",
      "source": [
        "P(T,Omega)"
      ],
      "metadata": {
        "colab": {
          "base_uri": "https://localhost:8080/"
        },
        "id": "nPNrqr6iLQbE",
        "outputId": "79d1a4cb-0eca-429c-84a6-8a265fbd46d8"
      },
      "execution_count": null,
      "outputs": [
        {
          "output_type": "execute_result",
          "data": {
            "text/plain": [
              "Fraction(3, 8)"
            ]
          },
          "metadata": {},
          "execution_count": 39
        }
      ]
    },
    {
      "cell_type": "code",
      "source": [
        "# Que al menos dos elementos sean A y S\n",
        "\n",
        "C = {om for om in Omega if om.count(\"A\") != 3 and om.count(\"S\") != 3}\n",
        "C"
      ],
      "metadata": {
        "colab": {
          "base_uri": "https://localhost:8080/"
        },
        "id": "wFu58B3bHP0f",
        "outputId": "6da73b46-3fa5-46d4-9544-1a46ec7ff2e3"
      },
      "execution_count": null,
      "outputs": [
        {
          "output_type": "execute_result",
          "data": {
            "text/plain": [
              "{('A', 'A', 'S'),\n",
              " ('A', 'S', 'A'),\n",
              " ('A', 'S', 'S'),\n",
              " ('S', 'A', 'A'),\n",
              " ('S', 'A', 'S'),\n",
              " ('S', 'S', 'A')}"
            ]
          },
          "metadata": {},
          "execution_count": 40
        }
      ]
    },
    {
      "cell_type": "code",
      "source": [
        "P(C,Omega)"
      ],
      "metadata": {
        "colab": {
          "base_uri": "https://localhost:8080/"
        },
        "id": "P1QC7P7fLsYm",
        "outputId": "123c7927-8c94-4674-96d2-91bc54ddd89f"
      },
      "execution_count": null,
      "outputs": [
        {
          "output_type": "execute_result",
          "data": {
            "text/plain": [
              "Fraction(3, 4)"
            ]
          },
          "metadata": {},
          "execution_count": 41
        }
      ]
    }
  ]
}